{
  "nbformat": 4,
  "nbformat_minor": 0,
  "metadata": {
    "colab": {
      "provenance": [],
      "authorship_tag": "ABX9TyNgiPIc1ydJm9MZLkVIWW3/",
      "include_colab_link": true
    },
    "kernelspec": {
      "name": "python3",
      "display_name": "Python 3"
    },
    "language_info": {
      "name": "python"
    }
  },
  "cells": [
    {
      "cell_type": "markdown",
      "metadata": {
        "id": "view-in-github",
        "colab_type": "text"
      },
      "source": [
        "<a href=\"https://colab.research.google.com/github/AbhishekSinghKushwah7/Plant-Disease-Identification-via-Deep-Learning/blob/main/thermal.ipynb\" target=\"_parent\"><img src=\"https://colab.research.google.com/assets/colab-badge.svg\" alt=\"Open In Colab\"/></a>"
      ]
    },
    {
      "cell_type": "markdown",
      "source": [
        "# **Experiment 2**"
      ],
      "metadata": {
        "id": "1NCnOMfnnKGy"
      }
    },
    {
      "cell_type": "code",
      "source": [
        "from google.colab import drive\n",
        "drive.mount('/content/drive')"
      ],
      "metadata": {
        "colab": {
          "base_uri": "https://localhost:8080/"
        },
        "id": "OqdZGtyOsRxE",
        "outputId": "2ae60432-e8d5-4fe3-ca2c-e228745e463a"
      },
      "execution_count": 15,
      "outputs": [
        {
          "output_type": "stream",
          "name": "stdout",
          "text": [
            "Mounted at /content/drive\n"
          ]
        }
      ]
    },
    {
      "cell_type": "code",
      "execution_count": 27,
      "metadata": {
        "id": "kanEUk54lv8o"
      },
      "outputs": [],
      "source": [
        "import os\n",
        "import shutil\n",
        "from sklearn.model_selection import train_test_split\n",
        "from tensorflow.keras.preprocessing.image import ImageDataGenerator\n",
        "from tensorflow.keras.models import Sequential\n",
        "from tensorflow.keras.layers import Conv2D, MaxPooling2D, Flatten, Dense, Dropout\n",
        "from tensorflow.keras.callbacks import EarlyStopping\n",
        "import matplotlib.pyplot as plt"
      ]
    },
    {
      "cell_type": "code",
      "source": [
        "def create_directories(output_dir, splits, classes):\n",
        "    for split in splits:\n",
        "        for cls in classes:\n",
        "            os.makedirs(os.path.join(output_dir, split, cls), exist_ok=True)\n",
        "\n",
        "def list_all_images(source_dir, classes):\n",
        "    all_images = []\n",
        "    for cls in classes:\n",
        "        class_dir = os.path.join(source_dir, cls)\n",
        "        images = [os.path.join(class_dir, img) for img in os.listdir(class_dir) if img.endswith(('.jpg', '.jpeg', '.png'))]\n",
        "        all_images.extend([(img, cls) for img in images])\n",
        "    return all_images\n",
        "\n",
        "def split_dataset(all_images):\n",
        "    train_val_images, test_images = train_test_split(all_images, test_size=0.2, random_state=42)\n",
        "    train_images, val_images = train_test_split(train_val_images, test_size=0.25, random_state=42)  # 0.25 * 0.8 = 0.2\n",
        "    return train_images, val_images, test_images\n",
        "\n",
        "def copy_images(images, output_dir, split):\n",
        "    for img_path, cls in images:\n",
        "        dest_dir = os.path.join(output_dir, split, cls)\n",
        "        shutil.copy(img_path, dest_dir)\n",
        "\n",
        "def prepare_data(source_dir, output_dir, classes):\n",
        "    splits = ['train', 'validation', 'test']\n",
        "    create_directories(output_dir, splits, classes)\n",
        "    all_images = list_all_images(source_dir, classes)\n",
        "    train_images, val_images, test_images = split_dataset(all_images)\n",
        "    copy_images(train_images, output_dir, 'train')\n",
        "    copy_images(val_images, output_dir, 'validation')\n",
        "    copy_images(test_images, output_dir, 'test')\n",
        "    return len(train_images), len(val_images), len(test_images)\n",
        "\n",
        "def build_model(input_shape, num_classes):\n",
        "    model = Sequential([\n",
        "        Conv2D(32, (3, 3), activation='relu', input_shape=input_shape),\n",
        "        MaxPooling2D(pool_size=(2, 2)),\n",
        "        Conv2D(64, (3, 3), activation='relu'),\n",
        "        MaxPooling2D(pool_size=(2, 2)),\n",
        "        Conv2D(128, (3, 3), activation='relu'),\n",
        "        MaxPooling2D(pool_size=(2, 2)),\n",
        "        Flatten(),\n",
        "        Dense(128, activation='relu'),\n",
        "        Dropout(0.5),\n",
        "        Dense(num_classes, activation='softmax')  # Output layer\n",
        "    ])\n",
        "    model.compile(optimizer='adam', loss='categorical_crossentropy', metrics=['accuracy'])\n",
        "    return model\n",
        "\n",
        "def plot_history(history):\n",
        "    plt.figure(figsize=(10, 5))\n",
        "    plt.plot(history.history['accuracy'], label='Training Accuracy')\n",
        "    plt.plot(history.history['val_accuracy'], label='Validation Accuracy')\n",
        "    plt.xlabel('Epochs')\n",
        "    plt.ylabel('Accuracy')\n",
        "    plt.legend()\n",
        "    plt.title('Training and Validation Accuracy')\n",
        "    plt.show()\n"
      ],
      "metadata": {
        "id": "wWZuTLAVnD8g"
      },
      "execution_count": 29,
      "outputs": []
    },
    {
      "cell_type": "code",
      "source": [
        "source_dir = \"/content/drive/MyDrive/Colab Notebooks/thermal images UL\"\n",
        "output_dir = \"/content/drive/MyDrive/Colab Notebooks/thermal images UL\"\n",
        "classes = ['healthy', 'Blast', 'BLB', 'hispa', 'leaf folder', 'leaf spot']"
      ],
      "metadata": {
        "id": "yFjsC08_ouBE"
      },
      "execution_count": 36,
      "outputs": []
    },
    {
      "cell_type": "code",
      "source": [
        "# Prepare data\n",
        "train_count, val_count, test_count = prepare_data(source_dir, output_dir, classes)\n",
        "print(f\"Training set: {train_count} images\")\n",
        "print(f\"Validation set: {val_count} images\")\n",
        "print(f\"Test set: {test_count} images\")\n"
      ],
      "metadata": {
        "id": "pxQNYZWx0Gyl",
        "outputId": "1117f069-22f0-4088-fbb9-dce3bb6b8b98",
        "colab": {
          "base_uri": "https://localhost:8080/"
        }
      },
      "execution_count": 37,
      "outputs": [
        {
          "output_type": "stream",
          "name": "stdout",
          "text": [
            "Training set: 381 images\n",
            "Validation set: 127 images\n",
            "Test set: 128 images\n"
          ]
        }
      ]
    },
    {
      "cell_type": "code",
      "source": [
        "# Step 1: Data Augmentation\n",
        "datagen = ImageDataGenerator(\n",
        "    rescale=1.0/255,\n",
        "    rotation_range=30,\n",
        "    width_shift_range=0.2,\n",
        "    height_shift_range=0.2,\n",
        "    shear_range=0.2,\n",
        "    zoom_range=0.2,\n",
        "    horizontal_flip=True,\n",
        "    fill_mode='nearest'\n",
        ")\n",
        "\n",
        "train_generator = datagen.flow_from_directory(\n",
        "    os.path.join(output_dir, 'train'),\n",
        "    target_size=(224, 224),  # Resize images to 224x224\n",
        "    batch_size=32,\n",
        "    class_mode='categorical'\n",
        ")\n",
        "\n",
        "val_generator = datagen.flow_from_directory(\n",
        "    os.path.join(output_dir, 'validation'),\n",
        "    target_size=(224, 224),\n",
        "    batch_size=32,\n",
        "    class_mode='categorical'\n",
        ")\n",
        "\n",
        "test_generator = datagen.flow_from_directory(\n",
        "    os.path.join(output_dir, 'test'),\n",
        "    target_size=(224, 224),\n",
        "    batch_size=32,\n",
        "    class_mode='categorical'\n",
        ")"
      ],
      "metadata": {
        "id": "vdjrCZEX95kR",
        "outputId": "2aed0cc4-3e9b-4518-e614-cab817afe77c",
        "colab": {
          "base_uri": "https://localhost:8080/"
        }
      },
      "execution_count": 38,
      "outputs": [
        {
          "output_type": "stream",
          "name": "stdout",
          "text": [
            "Found 381 images belonging to 8 classes.\n",
            "Found 127 images belonging to 8 classes.\n",
            "Found 128 images belonging to 8 classes.\n"
          ]
        }
      ]
    },
    {
      "cell_type": "code",
      "source": [
        "# Step 2: Build the CNN Model\n",
        "model = build_model(input_shape=(224, 224, 3), num_classes=train_generator.num_classes)"
      ],
      "metadata": {
        "id": "1Qm0kNxc-Gma",
        "outputId": "3782f9aa-d2d8-4b23-9d9e-54f92a7496f6",
        "colab": {
          "base_uri": "https://localhost:8080/"
        }
      },
      "execution_count": 39,
      "outputs": [
        {
          "output_type": "stream",
          "name": "stderr",
          "text": [
            "/usr/local/lib/python3.11/dist-packages/keras/src/layers/convolutional/base_conv.py:107: UserWarning: Do not pass an `input_shape`/`input_dim` argument to a layer. When using Sequential models, prefer using an `Input(shape)` object as the first layer in the model instead.\n",
            "  super().__init__(activity_regularizer=activity_regularizer, **kwargs)\n"
          ]
        }
      ]
    },
    {
      "cell_type": "code",
      "source": [
        "# Step 3: Training the Model\n",
        "early_stopping = EarlyStopping(monitor='val_loss', patience=5, restore_best_weights=True)\n",
        "\n",
        "history = model.fit(\n",
        "    train_generator,\n",
        "    validation_data=val_generator,\n",
        "    epochs=50,\n",
        "    callbacks=[early_stopping]\n",
        ")"
      ],
      "metadata": {
        "id": "jJ6EByr--PZk",
        "outputId": "55476e16-2917-47ca-ba93-eb135ee40a8d",
        "colab": {
          "base_uri": "https://localhost:8080/"
        }
      },
      "execution_count": null,
      "outputs": [
        {
          "output_type": "stream",
          "name": "stderr",
          "text": [
            "/usr/local/lib/python3.11/dist-packages/keras/src/trainers/data_adapters/py_dataset_adapter.py:121: UserWarning: Your `PyDataset` class should call `super().__init__(**kwargs)` in its constructor. `**kwargs` can include `workers`, `use_multiprocessing`, `max_queue_size`. Do not pass these arguments to `fit()`, as they will be ignored.\n",
            "  self._warn_if_super_not_called()\n"
          ]
        },
        {
          "output_type": "stream",
          "name": "stdout",
          "text": [
            "Epoch 1/50\n",
            "\u001b[1m12/12\u001b[0m \u001b[32m━━━━━━━━━━━━━━━━━━━━\u001b[0m\u001b[37m\u001b[0m \u001b[1m84s\u001b[0m 7s/step - accuracy: 0.2915 - loss: 3.0076 - val_accuracy: 0.3543 - val_loss: 1.7366\n",
            "Epoch 2/50\n",
            "\u001b[1m12/12\u001b[0m \u001b[32m━━━━━━━━━━━━━━━━━━━━\u001b[0m\u001b[37m\u001b[0m \u001b[1m66s\u001b[0m 6s/step - accuracy: 0.3135 - loss: 1.7210 - val_accuracy: 0.3071 - val_loss: 1.6019\n",
            "Epoch 3/50\n",
            "\u001b[1m12/12\u001b[0m \u001b[32m━━━━━━━━━━━━━━━━━━━━\u001b[0m\u001b[37m\u001b[0m \u001b[1m82s\u001b[0m 6s/step - accuracy: 0.3655 - loss: 1.6133 - val_accuracy: 0.3937 - val_loss: 1.4952\n",
            "Epoch 4/50\n",
            "\u001b[1m12/12\u001b[0m \u001b[32m━━━━━━━━━━━━━━━━━━━━\u001b[0m\u001b[37m\u001b[0m \u001b[1m66s\u001b[0m 6s/step - accuracy: 0.4075 - loss: 1.5472 - val_accuracy: 0.4567 - val_loss: 1.4013\n",
            "Epoch 5/50\n",
            "\u001b[1m12/12\u001b[0m \u001b[32m━━━━━━━━━━━━━━━━━━━━\u001b[0m\u001b[37m\u001b[0m \u001b[1m61s\u001b[0m 5s/step - accuracy: 0.4293 - loss: 1.4181 - val_accuracy: 0.4331 - val_loss: 1.3800\n",
            "Epoch 6/50\n",
            "\u001b[1m10/12\u001b[0m \u001b[32m━━━━━━━━━━━━━━━━\u001b[0m\u001b[37m━━━━\u001b[0m \u001b[1m9s\u001b[0m 5s/step - accuracy: 0.4359 - loss: 1.4610 "
          ]
        }
      ]
    },
    {
      "cell_type": "code",
      "source": [
        "# Step 4: Evaluate the Model\n",
        "train_accuracy = history.history['accuracy'][-1]\n",
        "val_accuracy = history.history['val_accuracy'][-1]\n",
        "\n",
        "print(f\"Training Accuracy: {train_accuracy}\")\n",
        "print(f\"Validation Accuracy: {val_accuracy}\")\n",
        "\n",
        "# Test Accuracy\n",
        "if test_generator:\n",
        "    test_loss, test_accuracy = model.evaluate(test_generator)\n",
        "    print(f\"Testing Accuracy: {test_accuracy}\")"
      ],
      "metadata": {
        "id": "GHxwYJuI-_oL"
      },
      "execution_count": null,
      "outputs": []
    },
    {
      "cell_type": "code",
      "source": [
        "# Step 5: Plot Training/Validation Accuracy and Loss\n",
        "plot_history(history)"
      ],
      "metadata": {
        "id": "fvNXguXa_EIK"
      },
      "execution_count": null,
      "outputs": []
    }
  ]
}