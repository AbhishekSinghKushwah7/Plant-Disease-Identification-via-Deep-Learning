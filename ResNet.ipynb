{
  "cells": [
    {
      "cell_type": "markdown",
      "metadata": {
        "id": "view-in-github",
        "colab_type": "text"
      },
      "source": [
        "<a href=\"https://colab.research.google.com/github/AbhishekSinghKushwah7/Plant-Disease-Identification-via-Deep-Learning/blob/main/ResNet.ipynb\" target=\"_parent\"><img src=\"https://colab.research.google.com/assets/colab-badge.svg\" alt=\"Open In Colab\"/></a>"
      ]
    },
    {
      "cell_type": "markdown",
      "metadata": {
        "id": "1NCnOMfnnKGy"
      },
      "source": [
        "# **Experiment 2**"
      ]
    },
    {
      "cell_type": "code",
      "execution_count": 1,
      "metadata": {
        "id": "kanEUk54lv8o"
      },
      "outputs": [],
      "source": [
        "import os\n",
        "import tensorflow as tf\n",
        "from tensorflow.keras import layers, models\n",
        "from tensorflow.keras.preprocessing.image import ImageDataGenerator\n",
        "from tensorflow.keras.callbacks import EarlyStopping, ReduceLROnPlateau\n",
        "from sklearn.model_selection import train_test_split\n",
        "import shutil\n",
        "import matplotlib.pyplot as plt"
      ]
    },
    {
      "cell_type": "code",
      "source": [
        "from google.colab import drive\n",
        "drive.mount('/content/new_drive')"
      ],
      "metadata": {
        "colab": {
          "base_uri": "https://localhost:8080/"
        },
        "id": "IqnuhBv3PgBN",
        "outputId": "0a9225cd-7f15-4819-f058-925adc844c03"
      },
      "execution_count": 2,
      "outputs": [
        {
          "output_type": "stream",
          "name": "stdout",
          "text": [
            "Drive already mounted at /content/new_drive; to attempt to forcibly remount, call drive.mount(\"/content/new_drive\", force_remount=True).\n"
          ]
        }
      ]
    },
    {
      "cell_type": "code",
      "execution_count": 3,
      "metadata": {
        "id": "wWZuTLAVnD8g"
      },
      "outputs": [],
      "source": [
        "source_dir = \"/content/new_drive/MyDrive/Colab Notebooks/thermal images UL\"\n",
        "output_dir = \"/content/new_drive/MyDrive/Colab Notebooks/thermal images UL\"\n",
        "\n",
        "classes = ['Blast', 'BLB', 'healthy', 'hispa', 'leaf folder', 'leaf spot']\n"
      ]
    },
    {
      "cell_type": "code",
      "execution_count": 4,
      "metadata": {
        "id": "yFjsC08_ouBE"
      },
      "outputs": [],
      "source": [
        "# Step 1: Data Preparation\n",
        "def prepare_data(source_dir, output_dir, classes, test_size=0.2, val_size=0.2):\n",
        "    splits = ['train', 'validation', 'test']\n",
        "\n",
        "    # Create directories for splits\n",
        "    for split in splits:\n",
        "        for cls in classes:\n",
        "            os.makedirs(os.path.join(output_dir, split, cls), exist_ok=True)\n",
        "\n",
        "    # List all images and split data\n",
        "    for cls in classes:\n",
        "        class_dir = os.path.join(source_dir, cls)\n",
        "        images = [os.path.join(class_dir, img) for img in os.listdir(class_dir) if img.endswith(('jpg', 'png'))]\n",
        "\n",
        "        # Split into train, validation, and test sets\n",
        "        train_val_images, test_images = train_test_split(images, test_size=test_size, random_state=42)\n",
        "        train_images, val_images = train_test_split(train_val_images, test_size=val_size, random_state=42)\n",
        "\n",
        "        # Copy images to respective directories\n",
        "        for img_path in train_images:\n",
        "            shutil.copy(img_path, os.path.join(output_dir, 'train', cls))\n",
        "        for img_path in val_images:\n",
        "            shutil.copy(img_path, os.path.join(output_dir, 'validation', cls))\n",
        "        for img_path in test_images:\n",
        "            shutil.copy(img_path, os.path.join(output_dir, 'test', cls))\n",
        "\n",
        "    print(\"Dataset preparation complete.\")"
      ]
    },
    {
      "cell_type": "code",
      "execution_count": 5,
      "metadata": {
        "colab": {
          "base_uri": "https://localhost:8080/"
        },
        "id": "pxQNYZWx0Gyl",
        "outputId": "49979964-e678-4aa6-f835-05d98c584af8"
      },
      "outputs": [
        {
          "output_type": "stream",
          "name": "stdout",
          "text": [
            "Dataset preparation complete.\n"
          ]
        }
      ],
      "source": [
        "# Prepare dataset\n",
        "prepare_data(source_dir, output_dir, classes)"
      ]
    },
    {
      "cell_type": "code",
      "execution_count": 51,
      "metadata": {
        "id": "vdjrCZEX95kR"
      },
      "outputs": [],
      "source": [
        "# Step 2: Create Data Generators\n",
        "def create_data_generators(output_dir, img_size=(224, 224), batch_size=32):\n",
        "    datagen_train = ImageDataGenerator(\n",
        "        rescale=1./255,\n",
        "        rotation_range=20,\n",
        "        width_shift_range=0.2,\n",
        "        height_shift_range=0.2,\n",
        "        zoom_range=0.2,\n",
        "        horizontal_flip=True,\n",
        "        fill_mode='nearest'\n",
        "    )\n",
        "\n",
        "    datagen_val_test = ImageDataGenerator(rescale=1./255)\n",
        "\n",
        "    train_generator = datagen_train.flow_from_directory(\n",
        "        os.path.join(output_dir, 'train'),\n",
        "        target_size=img_size,\n",
        "        batch_size=batch_size,\n",
        "        class_mode='categorical'\n",
        "    )\n",
        "\n",
        "    val_generator = datagen_val_test.flow_from_directory(\n",
        "        os.path.join(output_dir, 'validation'),\n",
        "        target_size=img_size,\n",
        "        batch_size=batch_size,\n",
        "        class_mode='categorical'\n",
        "    )\n",
        "\n",
        "    test_generator = datagen_val_test.flow_from_directory(\n",
        "        os.path.join(output_dir, 'test'),\n",
        "        target_size=img_size,\n",
        "        batch_size=batch_size,\n",
        "        class_mode='categorical'\n",
        "    )\n",
        "\n",
        "    return train_generator, val_generator, test_generator"
      ]
    },
    {
      "cell_type": "code",
      "execution_count": 52,
      "metadata": {
        "colab": {
          "base_uri": "https://localhost:8080/"
        },
        "collapsed": true,
        "id": "1Qm0kNxc-Gma",
        "outputId": "a6029353-f511-4b23-d57d-1c5919f6bd53"
      },
      "outputs": [
        {
          "output_type": "stream",
          "name": "stdout",
          "text": [
            "Found 586 images belonging to 6 classes.\n",
            "Found 317 images belonging to 6 classes.\n",
            "Found 222 images belonging to 6 classes.\n"
          ]
        }
      ],
      "source": [
        "# Create data generators\n",
        "train_gen, val_gen, test_gen = create_data_generators(output_dir)"
      ]
    },
    {
      "cell_type": "code",
      "execution_count": 53,
      "metadata": {
        "id": "jJ6EByr--PZk"
      },
      "outputs": [],
      "source": [
        "# Step 3: Build ResNet Model\n",
        "def build_resnet_model(input_shape=(224, 224, 3), num_classes=6):\n",
        "    \"\"\"Build a ResNet50 model for classification.\"\"\"\n",
        "    base_model = tf.keras.applications.ResNet50(\n",
        "        weights='imagenet',\n",
        "        include_top=False,\n",
        "        input_shape=input_shape\n",
        "    )\n",
        "    base_model.trainable = False  # Freeze the base model initially\n",
        "\n",
        "    model = models.Sequential([\n",
        "        base_model,\n",
        "        layers.GlobalAveragePooling2D(),\n",
        "        layers.Dropout(0.5),\n",
        "        layers.Dense(num_classes, activation='softmax')\n",
        "    ])\n",
        "\n",
        "    model.compile(optimizer=tf.keras.optimizers.Adam(learning_rate=1e-4),\n",
        "                  loss='categorical_crossentropy',\n",
        "                  metrics=['accuracy'])\n",
        "    return model"
      ]
    },
    {
      "cell_type": "code",
      "execution_count": 54,
      "metadata": {
        "id": "GHxwYJuI-_oL",
        "colab": {
          "base_uri": "https://localhost:8080/"
        },
        "outputId": "f234cbb9-1514-44e1-cf9c-d15ed4ce0117"
      },
      "outputs": [
        {
          "output_type": "stream",
          "name": "stdout",
          "text": [
            "Downloading data from https://storage.googleapis.com/tensorflow/keras-applications/resnet/resnet50_weights_tf_dim_ordering_tf_kernels_notop.h5\n",
            "\u001b[1m94765736/94765736\u001b[0m \u001b[32m━━━━━━━━━━━━━━━━━━━━\u001b[0m\u001b[37m\u001b[0m \u001b[1m0s\u001b[0m 0us/step\n"
          ]
        }
      ],
      "source": [
        "# Build the model\n",
        "model = build_resnet_model()"
      ]
    },
    {
      "cell_type": "code",
      "execution_count": 55,
      "metadata": {
        "colab": {
          "base_uri": "https://localhost:8080/"
        },
        "id": "fvNXguXa_EIK",
        "outputId": "791e8b46-1eaf-4ead-a13c-3bab2f7fab2c"
      },
      "outputs": [
        {
          "output_type": "stream",
          "name": "stdout",
          "text": [
            "Epoch 1/20\n",
            "\u001b[1m19/19\u001b[0m \u001b[32m━━━━━━━━━━━━━━━━━━━━\u001b[0m\u001b[37m\u001b[0m \u001b[1m225s\u001b[0m 11s/step - accuracy: 0.2380 - loss: 2.0897 - val_accuracy: 0.3407 - val_loss: 1.7643 - learning_rate: 1.0000e-04\n",
            "Epoch 2/20\n",
            "\u001b[1m19/19\u001b[0m \u001b[32m━━━━━━━━━━━━━━━━━━━━\u001b[0m\u001b[37m\u001b[0m \u001b[1m197s\u001b[0m 11s/step - accuracy: 0.2598 - loss: 2.0946 - val_accuracy: 0.3407 - val_loss: 1.6939 - learning_rate: 1.0000e-04\n",
            "Epoch 3/20\n",
            "\u001b[1m19/19\u001b[0m \u001b[32m━━━━━━━━━━━━━━━━━━━━\u001b[0m\u001b[37m\u001b[0m \u001b[1m190s\u001b[0m 10s/step - accuracy: 0.3054 - loss: 1.9786 - val_accuracy: 0.3407 - val_loss: 1.6677 - learning_rate: 1.0000e-04\n",
            "Epoch 4/20\n",
            "\u001b[1m19/19\u001b[0m \u001b[32m━━━━━━━━━━━━━━━━━━━━\u001b[0m\u001b[37m\u001b[0m \u001b[1m194s\u001b[0m 10s/step - accuracy: 0.2232 - loss: 1.9545 - val_accuracy: 0.3407 - val_loss: 1.6570 - learning_rate: 1.0000e-04\n",
            "Epoch 5/20\n",
            "\u001b[1m19/19\u001b[0m \u001b[32m━━━━━━━━━━━━━━━━━━━━\u001b[0m\u001b[37m\u001b[0m \u001b[1m208s\u001b[0m 11s/step - accuracy: 0.2359 - loss: 1.9483 - val_accuracy: 0.3407 - val_loss: 1.6538 - learning_rate: 1.0000e-04\n",
            "Epoch 6/20\n",
            "\u001b[1m19/19\u001b[0m \u001b[32m━━━━━━━━━━━━━━━━━━━━\u001b[0m\u001b[37m\u001b[0m \u001b[1m188s\u001b[0m 10s/step - accuracy: 0.2640 - loss: 1.8904 - val_accuracy: 0.3407 - val_loss: 1.6519 - learning_rate: 1.0000e-04\n",
            "Epoch 7/20\n",
            "\u001b[1m19/19\u001b[0m \u001b[32m━━━━━━━━━━━━━━━━━━━━\u001b[0m\u001b[37m\u001b[0m \u001b[1m224s\u001b[0m 11s/step - accuracy: 0.2821 - loss: 1.9172 - val_accuracy: 0.3407 - val_loss: 1.6484 - learning_rate: 1.0000e-04\n",
            "Epoch 8/20\n",
            "\u001b[1m19/19\u001b[0m \u001b[32m━━━━━━━━━━━━━━━━━━━━\u001b[0m\u001b[37m\u001b[0m \u001b[1m194s\u001b[0m 10s/step - accuracy: 0.2748 - loss: 1.8693 - val_accuracy: 0.3407 - val_loss: 1.6470 - learning_rate: 1.0000e-04\n",
            "Epoch 9/20\n",
            "\u001b[1m19/19\u001b[0m \u001b[32m━━━━━━━━━━━━━━━━━━━━\u001b[0m\u001b[37m\u001b[0m \u001b[1m186s\u001b[0m 10s/step - accuracy: 0.2427 - loss: 1.9083 - val_accuracy: 0.3407 - val_loss: 1.6479 - learning_rate: 1.0000e-04\n",
            "Epoch 10/20\n",
            "\u001b[1m19/19\u001b[0m \u001b[32m━━━━━━━━━━━━━━━━━━━━\u001b[0m\u001b[37m\u001b[0m \u001b[1m224s\u001b[0m 11s/step - accuracy: 0.2389 - loss: 1.8954 - val_accuracy: 0.3407 - val_loss: 1.6487 - learning_rate: 1.0000e-04\n",
            "Epoch 11/20\n",
            "\u001b[1m19/19\u001b[0m \u001b[32m━━━━━━━━━━━━━━━━━━━━\u001b[0m\u001b[37m\u001b[0m \u001b[1m190s\u001b[0m 10s/step - accuracy: 0.2955 - loss: 1.8269 - val_accuracy: 0.3407 - val_loss: 1.6492 - learning_rate: 1.0000e-04\n",
            "Epoch 12/20\n",
            "\u001b[1m19/19\u001b[0m \u001b[32m━━━━━━━━━━━━━━━━━━━━\u001b[0m\u001b[37m\u001b[0m \u001b[1m186s\u001b[0m 10s/step - accuracy: 0.2400 - loss: 1.8823 - val_accuracy: 0.3407 - val_loss: 1.6485 - learning_rate: 2.0000e-05\n",
            "Epoch 13/20\n",
            "\u001b[1m19/19\u001b[0m \u001b[32m━━━━━━━━━━━━━━━━━━━━\u001b[0m\u001b[37m\u001b[0m \u001b[1m192s\u001b[0m 10s/step - accuracy: 0.2503 - loss: 1.8544 - val_accuracy: 0.3407 - val_loss: 1.6483 - learning_rate: 2.0000e-05\n"
          ]
        }
      ],
      "source": [
        "# Step 4: Train the Model\n",
        "callbacks = [\n",
        "    EarlyStopping(monitor='val_loss', patience=5, restore_best_weights=True),\n",
        "    ReduceLROnPlateau(monitor='val_loss', factor=0.2, patience=3, min_lr=1e-6)\n",
        "]\n",
        "\n",
        "history = model.fit(\n",
        "    train_gen,\n",
        "    validation_data=val_gen,\n",
        "    epochs=20,\n",
        "    callbacks=callbacks\n",
        ")"
      ]
    },
    {
      "cell_type": "code",
      "execution_count": 56,
      "metadata": {
        "colab": {
          "base_uri": "https://localhost:8080/"
        },
        "id": "E7t3xeWS158M",
        "outputId": "4621d945-30fc-4dba-ef20-ae944ea7b10f"
      },
      "outputs": [
        {
          "output_type": "stream",
          "name": "stdout",
          "text": [
            "\u001b[1m7/7\u001b[0m \u001b[32m━━━━━━━━━━━━━━━━━━━━\u001b[0m\u001b[37m\u001b[0m \u001b[1m46s\u001b[0m 7s/step - accuracy: 0.3469 - loss: 1.6578\n",
            "Test Accuracy: 34.68%\n"
          ]
        }
      ],
      "source": [
        "# Step 5: Evaluate the Model\n",
        "eval_results = model.evaluate(test_gen)\n",
        "print(f\"Test Accuracy: {eval_results[1] * 100:.2f}%\")"
      ]
    },
    {
      "cell_type": "code",
      "source": [
        "# Step 6: Plot Training and Validation Accuracy and Loss\n",
        "def plot_training_history(history):\n",
        "    plt.figure(figsize=(12, 6))\n",
        "\n",
        "    # Plot accuracy\n",
        "    plt.subplot(1, 2, 1)\n",
        "    plt.plot(history.history['accuracy'], label='Train Accuracy')\n",
        "    plt.plot(history.history['val_accuracy'], label='Validation Accuracy')\n",
        "    plt.title('Accuracy Over Epochs')\n",
        "    plt.xlabel('Epochs')\n",
        "    plt.ylabel('Accuracy')\n",
        "    plt.legend()\n",
        "\n",
        "    # Plot loss\n",
        "    plt.subplot(1, 2, 2)\n",
        "    plt.plot(history.history['loss'], label='Train Loss')\n",
        "    plt.plot(history.history['val_loss'], label='Validation Loss')\n",
        "    plt.title('Loss Over Epochs')\n",
        "    plt.xlabel('Epochs')\n",
        "    plt.ylabel('Loss')\n",
        "    plt.legend()\n",
        "\n",
        "    plt.show()\n",
        "\n",
        "plot_training_history(history)"
      ],
      "metadata": {
        "colab": {
          "base_uri": "https://localhost:8080/",
          "height": 559
        },
        "id": "VlCuVREXCMPO",
        "outputId": "933f991c-0ffc-4b04-c45d-8be23c7d1c7d"
      },
      "execution_count": 57,
      "outputs": [
        {
          "output_type": "display_data",
          "data": {
            "text/plain": [
              "<Figure size 1200x600 with 2 Axes>"
            ],
            "image/png": "[encoded data removed]"
          },
          "metadata": {}
        }
      ]
    },
    {
      "cell_type": "code",
      "source": [
        "# Save the model\n",
        "model.save(\"SegNet.h5\")\n",
        "print(\"Model saved.\")"
      ],
      "metadata": {
        "colab": {
          "base_uri": "https://localhost:8080/"
        },
        "id": "jz0l5l2fCSF2",
        "outputId": "a77e383b-6a2b-469d-e4af-db9d04dca297"
      },
      "execution_count": null,
      "outputs": [
        {
          "output_type": "stream",
          "name": "stderr",
          "text": [
            "WARNING:absl:You are saving your model as an HDF5 file via `model.save()` or `keras.saving.save_model(model)`. This file format is considered legacy. We recommend using instead the native Keras format, e.g. `model.save('my_model.keras')` or `keras.saving.save_model(model, 'my_model.keras')`. \n"
          ]
        },
        {
          "output_type": "stream",
          "name": "stdout",
          "text": [
            "Model saved.\n"
          ]
        }
      ]
    }
  ],
  "metadata": {
    "colab": {
      "provenance": [],
      "include_colab_link": true
    },
    "kernelspec": {
      "display_name": "Python 3",
      "name": "python3"
    },
    "language_info": {
      "codemirror_mode": {
        "name": "ipython",
        "version": 3
      },
      "file_extension": ".py",
      "mimetype": "text/x-python",
      "name": "python",
      "nbconvert_exporter": "python",
      "pygments_lexer": "ipython3",
      "version": "3.11.3"
    }
  },
  "nbformat": 4,
  "nbformat_minor": 0
}