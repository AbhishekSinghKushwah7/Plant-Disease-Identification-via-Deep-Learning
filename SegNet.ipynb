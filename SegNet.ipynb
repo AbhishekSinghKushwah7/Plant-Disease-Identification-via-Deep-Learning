{
  "cells": [
    {
      "cell_type": "markdown",
      "metadata": {
        "id": "view-in-github",
        "colab_type": "text"
      },
      "source": [
        "<a href=\"https://colab.research.google.com/github/AbhishekSinghKushwah7/Plant-Disease-Identification-via-Deep-Learning/blob/main/SegNet.ipynb\" target=\"_parent\"><img src=\"https://colab.research.google.com/assets/colab-badge.svg\" alt=\"Open In Colab\"/></a>"
      ]
    },
    {
      "cell_type": "markdown",
      "metadata": {
        "id": "1NCnOMfnnKGy"
      },
      "source": [
        "# **Experiment 2**"
      ]
    },
    {
      "cell_type": "code",
      "execution_count": 1,
      "metadata": {
        "id": "kanEUk54lv8o"
      },
      "outputs": [],
      "source": [
        "import os\n",
        "import tensorflow as tf\n",
        "from tensorflow.keras import layers, models\n",
        "from tensorflow.keras.preprocessing.image import ImageDataGenerator\n",
        "from tensorflow.keras.callbacks import EarlyStopping, ReduceLROnPlateau\n",
        "from sklearn.model_selection import train_test_split\n",
        "import shutil\n",
        "import matplotlib.pyplot as plt"
      ]
    },
    {
      "cell_type": "code",
      "source": [
        "from google.colab import drive\n",
        "drive.mount('/content/new_drive')"
      ],
      "metadata": {
        "colab": {
          "base_uri": "https://localhost:8080/"
        },
        "id": "IqnuhBv3PgBN",
        "outputId": "0a9225cd-7f15-4819-f058-925adc844c03"
      },
      "execution_count": 2,
      "outputs": [
        {
          "output_type": "stream",
          "name": "stdout",
          "text": [
            "Drive already mounted at /content/new_drive; to attempt to forcibly remount, call drive.mount(\"/content/new_drive\", force_remount=True).\n"
          ]
        }
      ]
    },
    {
      "cell_type": "code",
      "execution_count": 3,
      "metadata": {
        "id": "wWZuTLAVnD8g"
      },
      "outputs": [],
      "source": [
        "source_dir = \"/content/new_drive/MyDrive/Colab Notebooks/thermal images UL\"\n",
        "output_dir = \"/content/new_drive/MyDrive/Colab Notebooks/thermal images UL\"\n",
        "\n",
        "classes = ['Blast', 'BLB', 'healthy', 'hispa', 'leaf folder', 'leaf spot']\n"
      ]
    },
    {
      "cell_type": "code",
      "execution_count": 4,
      "metadata": {
        "id": "yFjsC08_ouBE"
      },
      "outputs": [],
      "source": [
        "# Step 1: Data Preparation\n",
        "def prepare_data(source_dir, output_dir, classes, test_size=0.2, val_size=0.2):\n",
        "    splits = ['train', 'validation', 'test']\n",
        "\n",
        "    # Create directories for splits\n",
        "    for split in splits:\n",
        "        for cls in classes:\n",
        "            os.makedirs(os.path.join(output_dir, split, cls), exist_ok=True)\n",
        "\n",
        "    # List all images and split data\n",
        "    for cls in classes:\n",
        "        class_dir = os.path.join(source_dir, cls)\n",
        "        images = [os.path.join(class_dir, img) for img in os.listdir(class_dir) if img.endswith(('jpg', 'png'))]\n",
        "\n",
        "        # Split into train, validation, and test sets\n",
        "        train_val_images, test_images = train_test_split(images, test_size=test_size, random_state=42)\n",
        "        train_images, val_images = train_test_split(train_val_images, test_size=val_size, random_state=42)\n",
        "\n",
        "        # Copy images to respective directories\n",
        "        for img_path in train_images:\n",
        "            shutil.copy(img_path, os.path.join(output_dir, 'train', cls))\n",
        "        for img_path in val_images:\n",
        "            shutil.copy(img_path, os.path.join(output_dir, 'validation', cls))\n",
        "        for img_path in test_images:\n",
        "            shutil.copy(img_path, os.path.join(output_dir, 'test', cls))\n",
        "\n",
        "    print(\"Dataset preparation complete.\")"
      ]
    },
    {
      "cell_type": "code",
      "execution_count": 5,
      "metadata": {
        "colab": {
          "base_uri": "https://localhost:8080/"
        },
        "id": "pxQNYZWx0Gyl",
        "outputId": "49979964-e678-4aa6-f835-05d98c584af8"
      },
      "outputs": [
        {
          "output_type": "stream",
          "name": "stdout",
          "text": [
            "Dataset preparation complete.\n"
          ]
        }
      ],
      "source": [
        "# Prepare dataset\n",
        "prepare_data(source_dir, output_dir, classes)"
      ]
    },
    {
      "cell_type": "code",
      "execution_count": 6,
      "metadata": {
        "id": "vdjrCZEX95kR"
      },
      "outputs": [],
      "source": [
        "# Step 2: Create Data Generators\n",
        "def create_data_generators(output_dir, img_size=(224, 224), batch_size=32):\n",
        "    datagen_train = ImageDataGenerator(\n",
        "        rescale=1./255,\n",
        "        rotation_range=20,\n",
        "        width_shift_range=0.2,\n",
        "        height_shift_range=0.2,\n",
        "        zoom_range=0.2,\n",
        "        horizontal_flip=True,\n",
        "        fill_mode='nearest'\n",
        "    )\n",
        "\n",
        "    datagen_val_test = ImageDataGenerator(rescale=1./255)\n",
        "\n",
        "    train_generator = datagen_train.flow_from_directory(\n",
        "        os.path.join(output_dir, 'train'),\n",
        "        target_size=img_size,\n",
        "        batch_size=batch_size,\n",
        "        class_mode='categorical'\n",
        "    )\n",
        "\n",
        "    val_generator = datagen_val_test.flow_from_directory(\n",
        "        os.path.join(output_dir, 'validation'),\n",
        "        target_size=img_size,\n",
        "        batch_size=batch_size,\n",
        "        class_mode='categorical'\n",
        "    )\n",
        "\n",
        "    test_generator = datagen_val_test.flow_from_directory(\n",
        "        os.path.join(output_dir, 'test'),\n",
        "        target_size=img_size,\n",
        "        batch_size=batch_size,\n",
        "        class_mode='categorical'\n",
        "    )\n",
        "\n",
        "    return train_generator, val_generator, test_generator"
      ]
    },
    {
      "cell_type": "code",
      "execution_count": 7,
      "metadata": {
        "colab": {
          "base_uri": "https://localhost:8080/"
        },
        "collapsed": true,
        "id": "1Qm0kNxc-Gma",
        "outputId": "f7d4fd14-1c8f-49c6-aef4-af2abab8c4a0"
      },
      "outputs": [
        {
          "output_type": "stream",
          "name": "stdout",
          "text": [
            "Found 586 images belonging to 6 classes.\n",
            "Found 317 images belonging to 6 classes.\n",
            "Found 222 images belonging to 6 classes.\n"
          ]
        }
      ],
      "source": [
        "# Create data generators\n",
        "train_gen, val_gen, test_gen = create_data_generators(output_dir)"
      ]
    },
    {
      "cell_type": "code",
      "execution_count": 23,
      "metadata": {
        "id": "jJ6EByr--PZk"
      },
      "outputs": [],
      "source": [
        "def build_segnet_model(input_shape=(224, 224, 3), num_classes=6):\n",
        "    \"\"\"Build a SegNet model adapted for classification.\"\"\"\n",
        "    inputs = layers.Input(shape=input_shape)\n",
        "\n",
        "    # Encoder\n",
        "    c1 = layers.Conv2D(64, (3, 3), activation='relu', padding='same')(inputs)\n",
        "    c1 = layers.BatchNormalization()(c1)\n",
        "    p1 = layers.MaxPooling2D((2, 2))(c1)\n",
        "\n",
        "    c2 = layers.Conv2D(128, (3, 3), activation='relu', padding='same')(p1)\n",
        "    c2 = layers.BatchNormalization()(c2)\n",
        "    p2 = layers.MaxPooling2D((2, 2))(c2)\n",
        "\n",
        "    c3 = layers.Conv2D(256, (3, 3), activation='relu', padding='same')(p2)\n",
        "    c3 = layers.BatchNormalization()(c3)\n",
        "    p3 = layers.MaxPooling2D((2, 2))(c3)\n",
        "\n",
        "    c4 = layers.Conv2D(512, (3, 3), activation='relu', padding='same')(p3)\n",
        "    c4 = layers.BatchNormalization()(c4)\n",
        "    p4 = layers.MaxPooling2D((2, 2))(c4)\n",
        "\n",
        "    # Bottleneck\n",
        "    c5 = layers.Conv2D(512, (3, 3), activation='relu', padding='same')(p4)\n",
        "    c5 = layers.BatchNormalization()(c5)\n",
        "\n",
        "    # Classification head\n",
        "    global_pool = layers.GlobalAveragePooling2D()(c5)\n",
        "    dropout = layers.Dropout(0.5)(global_pool)\n",
        "    outputs = layers.Dense(num_classes, activation='softmax')(dropout)\n",
        "\n",
        "    model = models.Model(inputs, outputs)\n",
        "    model.compile(optimizer=tf.keras.optimizers.Adam(learning_rate=1e-4),\n",
        "                  loss='categorical_crossentropy',\n",
        "                  metrics=['accuracy'])\n",
        "    return model\n"
      ]
    },
    {
      "cell_type": "code",
      "execution_count": 24,
      "metadata": {
        "id": "GHxwYJuI-_oL"
      },
      "outputs": [],
      "source": [
        "# Build the model\n",
        "model = build_segnet_model()"
      ]
    },
    {
      "cell_type": "code",
      "execution_count": 26,
      "metadata": {
        "colab": {
          "base_uri": "https://localhost:8080/"
        },
        "id": "fvNXguXa_EIK",
        "outputId": "0b28febb-15a4-41f3-b41a-78a81561579a"
      },
      "outputs": [
        {
          "output_type": "stream",
          "name": "stdout",
          "text": [
            "Epoch 1/10\n",
            "\u001b[1m19/19\u001b[0m \u001b[32m━━━━━━━━━━━━━━━━━━━━\u001b[0m\u001b[37m\u001b[0m \u001b[1m496s\u001b[0m 26s/step - accuracy: 0.3354 - loss: 1.7236 - val_accuracy: 0.0568 - val_loss: 1.8289 - learning_rate: 1.0000e-04\n",
            "Epoch 2/10\n",
            "\u001b[1m19/19\u001b[0m \u001b[32m━━━━━━━━━━━━━━━━━━━━\u001b[0m\u001b[37m\u001b[0m \u001b[1m513s\u001b[0m 27s/step - accuracy: 0.5087 - loss: 1.3359 - val_accuracy: 0.3407 - val_loss: 1.9114 - learning_rate: 1.0000e-04\n",
            "Epoch 3/10\n",
            "\u001b[1m19/19\u001b[0m \u001b[32m━━━━━━━━━━━━━━━━━━━━\u001b[0m\u001b[37m\u001b[0m \u001b[1m511s\u001b[0m 27s/step - accuracy: 0.5700 - loss: 1.2881 - val_accuracy: 0.3407 - val_loss: 2.0614 - learning_rate: 1.0000e-04\n",
            "Epoch 4/10\n",
            "\u001b[1m19/19\u001b[0m \u001b[32m━━━━━━━━━━━━━━━━━━━━\u001b[0m\u001b[37m\u001b[0m \u001b[1m564s\u001b[0m 27s/step - accuracy: 0.6365 - loss: 1.1864 - val_accuracy: 0.0568 - val_loss: 2.1850 - learning_rate: 1.0000e-04\n",
            "Epoch 5/10\n",
            "\u001b[1m19/19\u001b[0m \u001b[32m━━━━━━━━━━━━━━━━━━━━\u001b[0m\u001b[37m\u001b[0m \u001b[1m491s\u001b[0m 26s/step - accuracy: 0.5974 - loss: 1.1480 - val_accuracy: 0.3407 - val_loss: 2.3556 - learning_rate: 2.0000e-05\n",
            "Epoch 6/10\n",
            "\u001b[1m19/19\u001b[0m \u001b[32m━━━━━━━━━━━━━━━━━━━━\u001b[0m\u001b[37m\u001b[0m \u001b[1m510s\u001b[0m 27s/step - accuracy: 0.6415 - loss: 1.0411 - val_accuracy: 0.3407 - val_loss: 2.5033 - learning_rate: 2.0000e-05\n"
          ]
        }
      ],
      "source": [
        "# Step 4: Train the Model\n",
        "callbacks = [\n",
        "    EarlyStopping(monitor='val_loss', patience=5, restore_best_weights=True),\n",
        "    ReduceLROnPlateau(monitor='val_loss', factor=0.2, patience=3, min_lr=1e-6)\n",
        "]\n",
        "\n",
        "history = model.fit(\n",
        "    train_gen,\n",
        "    validation_data=val_gen,\n",
        "    epochs=10,\n",
        "    callbacks=callbacks\n",
        ")"
      ]
    },
    {
      "cell_type": "code",
      "execution_count": 29,
      "metadata": {
        "colab": {
          "base_uri": "https://localhost:8080/"
        },
        "id": "E7t3xeWS158M",
        "outputId": "c6b2417e-a716-4eb6-c60b-c24cd0e0c1bf"
      },
      "outputs": [
        {
          "output_type": "stream",
          "name": "stdout",
          "text": [
            "\u001b[1m7/7\u001b[0m \u001b[32m━━━━━━━━━━━━━━━━━━━━\u001b[0m\u001b[37m\u001b[0m \u001b[1m37s\u001b[0m 5s/step - accuracy: 0.0616 - loss: 1.8139\n",
            "Test Accuracy: 5.86%\n"
          ]
        }
      ],
      "source": [
        "# Step 5: Evaluate the Model\n",
        "eval_results = model.evaluate(test_gen)\n",
        "print(f\"Test Accuracy: {eval_results[1] * 100:.2f}%\")"
      ]
    },
    {
      "cell_type": "code",
      "source": [
        "# Step 6: Plot Training and Validation Accuracy and Loss\n",
        "def plot_training_history(history):\n",
        "    plt.figure(figsize=(12, 6))\n",
        "\n",
        "    # Plot accuracy\n",
        "    plt.subplot(1, 2, 1)\n",
        "    plt.plot(history.history['accuracy'], label='Train Accuracy')\n",
        "    plt.plot(history.history['val_accuracy'], label='Validation Accuracy')\n",
        "    plt.title('Accuracy Over Epochs')\n",
        "    plt.xlabel('Epochs')\n",
        "    plt.ylabel('Accuracy')\n",
        "    plt.legend()\n",
        "\n",
        "    # Plot loss\n",
        "    plt.subplot(1, 2, 2)\n",
        "    plt.plot(history.history['loss'], label='Train Loss')\n",
        "    plt.plot(history.history['val_loss'], label='Validation Loss')\n",
        "    plt.title('Loss Over Epochs')\n",
        "    plt.xlabel('Epochs')\n",
        "    plt.ylabel('Loss')\n",
        "    plt.legend()\n",
        "\n",
        "    plt.show()\n",
        "\n",
        "plot_training_history(history)"
      ],
      "metadata": {
        "colab": {
          "base_uri": "https://localhost:8080/",
          "height": 564
        },
        "id": "VlCuVREXCMPO",
        "outputId": "802b2c62-3028-4650-f519-0cd78c9619c1"
      },
      "execution_count": 30,
      "outputs": [
        {
          "output_type": "display_data",
          "data": {
            "text/plain": [
              "<Figure size 1200x600 with 2 Axes>"
            ],
            "image/png": "[encoded data removed]"
          },
          "metadata": {}
        }
      ]
    },
    {
      "cell_type": "code",
      "source": [
        "# Save the model\n",
        "model.save(\"SegNet.h5\")\n",
        "print(\"Model saved.\")"
      ],
      "metadata": {
        "colab": {
          "base_uri": "https://localhost:8080/"
        },
        "id": "jz0l5l2fCSF2",
        "outputId": "a77e383b-6a2b-469d-e4af-db9d04dca297"
      },
      "execution_count": null,
      "outputs": [
        {
          "output_type": "stream",
          "name": "stderr",
          "text": [
            "WARNING:absl:You are saving your model as an HDF5 file via `model.save()` or `keras.saving.save_model(model)`. This file format is considered legacy. We recommend using instead the native Keras format, e.g. `model.save('my_model.keras')` or `keras.saving.save_model(model, 'my_model.keras')`. \n"
          ]
        },
        {
          "output_type": "stream",
          "name": "stdout",
          "text": [
            "Model saved.\n"
          ]
        }
      ]
    }
  ],
  "metadata": {
    "colab": {
      "provenance": [],
      "include_colab_link": true
    },
    "kernelspec": {
      "display_name": "Python 3",
      "name": "python3"
    },
    "language_info": {
      "codemirror_mode": {
        "name": "ipython",
        "version": 3
      },
      "file_extension": ".py",
      "mimetype": "text/x-python",
      "name": "python",
      "nbconvert_exporter": "python",
      "pygments_lexer": "ipython3",
      "version": "3.11.3"
    }
  },
  "nbformat": 4,
  "nbformat_minor": 0
}