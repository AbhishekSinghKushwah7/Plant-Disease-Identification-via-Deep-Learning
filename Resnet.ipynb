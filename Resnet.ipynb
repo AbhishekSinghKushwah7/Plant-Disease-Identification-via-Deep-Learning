{
  "cells": [
    {
      "cell_type": "markdown",
      "metadata": {
        "id": "view-in-github",
        "colab_type": "text"
      },
      "source": [
        "<a href=\"https://colab.research.google.com/github/AbhishekSinghKushwah7/Plant-Disease-Identification-via-Deep-Learning/blob/main/Resnet.ipynb\" target=\"_parent\"><img src=\"https://colab.research.google.com/assets/colab-badge.svg\" alt=\"Open In Colab\"/></a>"
      ]
    },
    {
      "cell_type": "markdown",
      "metadata": {
        "id": "1NCnOMfnnKGy"
      },
      "source": [
        "# **Experiment 2**"
      ]
    },
    {
      "cell_type": "code",
      "execution_count": 2,
      "metadata": {
        "id": "kanEUk54lv8o"
      },
      "outputs": [],
      "source": [
        "import os\n",
        "import tensorflow as tf\n",
        "from tensorflow.keras import layers, models\n",
        "from tensorflow.keras.preprocessing.image import ImageDataGenerator\n",
        "from tensorflow.keras.applications import ResNet50\n",
        "from tensorflow.keras.callbacks import EarlyStopping\n",
        "from sklearn.model_selection import train_test_split\n",
        "import shutil\n",
        "import matplotlib.pyplot as plt"
      ]
    },
    {
      "cell_type": "code",
      "execution_count": 5,
      "metadata": {
        "id": "wWZuTLAVnD8g"
      },
      "outputs": [],
      "source": [
        "source_dir = \"/content/drive/MyDrive/Colab Notebooks/thermal images UL\"\n",
        "output_dir = \"/content/drive/MyDrive/Colab Notebooks/thermal images UL\"\n",
        "\n",
        "classes = ['Blast', 'BLB', 'healthy', 'hispa', 'leaf folder', 'leaf spot']\n"
      ]
    },
    {
      "cell_type": "code",
      "execution_count": 15,
      "metadata": {
        "id": "yFjsC08_ouBE"
      },
      "outputs": [],
      "source": [
        "# Step 1: Data Preparation\n",
        "def prepare_data(source_dir, output_dir, classes, test_size=0.2, val_size=0.2):\n",
        "    \"\"\"Prepare the dataset by splitting it into training, validation, and test sets.\"\"\"\n",
        "    splits = ['train', 'validation', 'test']\n",
        "\n",
        "    # Create directories for splits\n",
        "    for split in splits:\n",
        "        for cls in classes:\n",
        "            os.makedirs(os.path.join(output_dir, split, cls), exist_ok=True)\n",
        "\n",
        "    # List all images and split data\n",
        "    for cls in classes:\n",
        "        class_dir = os.path.join(source_dir, cls)\n",
        "        images = [os.path.join(class_dir, img) for img in os.listdir(class_dir) if img.endswith(('jpg', 'png'))]\n",
        "\n",
        "        # Split into train, validation, and test sets\n",
        "        train_val_images, test_images = train_test_split(images, test_size=test_size, random_state=42)\n",
        "        train_images, val_images = train_test_split(train_val_images, test_size=val_size, random_state=42)\n",
        "\n",
        "        # Copy images to respective directories\n",
        "        for img_path in train_images:\n",
        "            shutil.copy(img_path, os.path.join(output_dir, 'train', cls))\n",
        "        for img_path in val_images:\n",
        "            shutil.copy(img_path, os.path.join(output_dir, 'validation', cls))\n",
        "        for img_path in test_images:\n",
        "            shutil.copy(img_path, os.path.join(output_dir, 'test', cls))\n",
        "\n",
        "    print(\"Dataset preparation complete.\")\n"
      ]
    },
    {
      "cell_type": "code",
      "execution_count": 16,
      "metadata": {
        "colab": {
          "base_uri": "https://localhost:8080/"
        },
        "id": "pxQNYZWx0Gyl",
        "outputId": "9556f989-4d6b-48a1-f33e-9f5a6d7110f3"
      },
      "outputs": [
        {
          "output_type": "stream",
          "name": "stdout",
          "text": [
            "Dataset preparation complete.\n"
          ]
        }
      ],
      "source": [
        "# Prepare dataset\n",
        "prepare_data(source_dir, output_dir, classes)"
      ]
    },
    {
      "cell_type": "code",
      "execution_count": 18,
      "metadata": {
        "id": "vdjrCZEX95kR"
      },
      "outputs": [],
      "source": [
        "# Step 2: Create Data Generators\n",
        "def create_data_generators(output_dir, img_size=(224, 224), batch_size=32):\n",
        "    \"\"\"Create training, validation, and test data generators with augmentation.\"\"\"\n",
        "    datagen_train = ImageDataGenerator(\n",
        "        rescale=1./255,\n",
        "        rotation_range=30,\n",
        "        width_shift_range=0.3,\n",
        "        height_shift_range=0.3,\n",
        "        shear_range=0.3,\n",
        "        zoom_range=0.3,\n",
        "        horizontal_flip=True,\n",
        "        fill_mode='nearest'\n",
        "    )\n",
        "\n",
        "    datagen_val_test = ImageDataGenerator(rescale=1./255)\n",
        "\n",
        "    train_generator = datagen_train.flow_from_directory(\n",
        "        os.path.join(output_dir, 'train'),\n",
        "        target_size=img_size,\n",
        "        batch_size=batch_size,\n",
        "        class_mode='categorical'\n",
        "    )\n",
        "\n",
        "    val_generator = datagen_val_test.flow_from_directory(\n",
        "        os.path.join(output_dir, 'validation'),\n",
        "        target_size=img_size,\n",
        "        batch_size=batch_size,\n",
        "        class_mode='categorical'\n",
        "    )\n",
        "\n",
        "    test_generator = datagen_val_test.flow_from_directory(\n",
        "        os.path.join(output_dir, 'test'),\n",
        "        target_size=img_size,\n",
        "        batch_size=batch_size,\n",
        "        class_mode='categorical'\n",
        "    )\n",
        "\n",
        "    return train_generator, val_generator, test_generator"
      ]
    },
    {
      "cell_type": "code",
      "execution_count": 19,
      "metadata": {
        "colab": {
          "base_uri": "https://localhost:8080/"
        },
        "collapsed": true,
        "id": "1Qm0kNxc-Gma",
        "outputId": "5e38a7bf-15c5-41f4-e9f3-bc9d8914fa6e"
      },
      "outputs": [
        {
          "output_type": "stream",
          "name": "stdout",
          "text": [
            "Found 403 images belonging to 6 classes.\n",
            "Found 104 images belonging to 6 classes.\n",
            "Found 129 images belonging to 6 classes.\n"
          ]
        }
      ],
      "source": [
        "# Create data generators\n",
        "train_gen, val_gen, test_gen = create_data_generators(output_dir)"
      ]
    },
    {
      "cell_type": "code",
      "execution_count": 20,
      "metadata": {
        "id": "jJ6EByr--PZk"
      },
      "outputs": [],
      "source": [
        "# Step 3: Build ResNet Model\n",
        "def build_resnet_model(input_shape=(224, 224, 3), num_classes=6):\n",
        "    \"\"\"Build a ResNet model for classification.\"\"\"\n",
        "    base_model = ResNet50(weights='imagenet', include_top=False, input_shape=input_shape)\n",
        "    base_model.trainable = True  # Allow fine-tuning of base model layers\n",
        "\n",
        "    model = models.Sequential([\n",
        "        base_model,\n",
        "        layers.GlobalAveragePooling2D(),\n",
        "        layers.Dense(512, activation='relu'),\n",
        "        layers.Dropout(0.4),\n",
        "        layers.Dense(256, activation='relu'),\n",
        "        layers.Dropout(0.3),\n",
        "        layers.Dense(num_classes, activation='softmax')\n",
        "    ])\n",
        "\n",
        "    model.compile(optimizer=tf.keras.optimizers.Adam(learning_rate=1e-4), loss='categorical_crossentropy', metrics=['accuracy'])\n",
        "    return model\n"
      ]
    },
    {
      "cell_type": "code",
      "execution_count": 21,
      "metadata": {
        "id": "GHxwYJuI-_oL"
      },
      "outputs": [],
      "source": [
        "# Build the model\n",
        "model = build_resnet_model()"
      ]
    },
    {
      "cell_type": "code",
      "execution_count": 22,
      "metadata": {
        "colab": {
          "base_uri": "https://localhost:8080/"
        },
        "id": "fvNXguXa_EIK",
        "outputId": "e2c2af1a-a838-41c9-95c5-a09342c957f5"
      },
      "outputs": [
        {
          "output_type": "stream",
          "name": "stdout",
          "text": [
            "Epoch 1/20\n",
            "\u001b[1m13/13\u001b[0m \u001b[32m━━━━━━━━━━━━━━━━━━━━\u001b[0m\u001b[37m\u001b[0m \u001b[1m445s\u001b[0m 31s/step - accuracy: 0.1953 - loss: 2.1186 - val_accuracy: 0.2212 - val_loss: 1.7260\n",
            "Epoch 2/20\n",
            "\u001b[1m13/13\u001b[0m \u001b[32m━━━━━━━━━━━━━━━━━━━━\u001b[0m\u001b[37m\u001b[0m \u001b[1m442s\u001b[0m 30s/step - accuracy: 0.4670 - loss: 1.4985 - val_accuracy: 0.2212 - val_loss: 1.9796\n",
            "Epoch 3/20\n",
            "\u001b[1m13/13\u001b[0m \u001b[32m━━━━━━━━━━━━━━━━━━━━\u001b[0m\u001b[37m\u001b[0m \u001b[1m390s\u001b[0m 31s/step - accuracy: 0.5349 - loss: 1.2594 - val_accuracy: 0.2212 - val_loss: 2.5021\n",
            "Epoch 4/20\n",
            "\u001b[1m13/13\u001b[0m \u001b[32m━━━━━━━━━━━━━━━━━━━━\u001b[0m\u001b[37m\u001b[0m \u001b[1m404s\u001b[0m 31s/step - accuracy: 0.6009 - loss: 1.0212 - val_accuracy: 0.2212 - val_loss: 5.1563\n",
            "Epoch 5/20\n",
            "\u001b[1m13/13\u001b[0m \u001b[32m━━━━━━━━━━━━━━━━━━━━\u001b[0m\u001b[37m\u001b[0m \u001b[1m405s\u001b[0m 31s/step - accuracy: 0.7263 - loss: 0.8072 - val_accuracy: 0.2212 - val_loss: 4.6625\n",
            "Epoch 6/20\n",
            "\u001b[1m13/13\u001b[0m \u001b[32m━━━━━━━━━━━━━━━━━━━━\u001b[0m\u001b[37m\u001b[0m \u001b[1m399s\u001b[0m 31s/step - accuracy: 0.7388 - loss: 0.7461 - val_accuracy: 0.2212 - val_loss: 4.5479\n"
          ]
        }
      ],
      "source": [
        "# Step 4: Train the Model\n",
        "callbacks = [\n",
        "    EarlyStopping(monitor='val_loss', patience=5, restore_best_weights=True)\n",
        "]\n",
        "\n",
        "history = model.fit(\n",
        "    train_gen,\n",
        "    validation_data=val_gen,\n",
        "    epochs=20,\n",
        "    callbacks=callbacks\n",
        ")"
      ]
    },
    {
      "cell_type": "code",
      "execution_count": 24,
      "metadata": {
        "colab": {
          "base_uri": "https://localhost:8080/"
        },
        "collapsed": true,
        "id": "E7t3xeWS158M",
        "outputId": "5374358a-74e2-46df-a6db-0d04e8d0c91a"
      },
      "outputs": [
        {
          "output_type": "stream",
          "name": "stdout",
          "text": [
            "\u001b[1m5/5\u001b[0m \u001b[32m━━━━━━━━━━━━━━━━━━━━\u001b[0m\u001b[37m\u001b[0m \u001b[1m24s\u001b[0m 5s/step - accuracy: 0.2056 - loss: 1.7302\n",
            "Test Accuracy: 22.48%\n"
          ]
        }
      ],
      "source": [
        "# Step 5: Evaluate the Model\n",
        "eval_results = model.evaluate(test_gen)\n",
        "print(f\"Test Accuracy: {eval_results[1] * 100:.2f}%\")\n"
      ]
    },
    {
      "cell_type": "code",
      "source": [
        "# Step 6: Plot Training and Validation Accuracy and Loss\n",
        "def plot_training_history(history):\n",
        "    plt.figure(figsize=(12, 6))\n",
        "\n",
        "    # Plot accuracy\n",
        "    plt.subplot(1, 2, 1)\n",
        "    plt.plot(history.history['accuracy'], label='Train Accuracy')\n",
        "    plt.plot(history.history['val_accuracy'], label='Validation Accuracy')\n",
        "    plt.title('Accuracy Over Epochs')\n",
        "    plt.xlabel('Epochs')\n",
        "    plt.ylabel('Accuracy')\n",
        "    plt.legend()\n",
        "\n",
        "    # Plot loss\n",
        "    plt.subplot(1, 2, 2)\n",
        "    plt.plot(history.history['loss'], label='Train Loss')\n",
        "    plt.plot(history.history['val_loss'], label='Validation Loss')\n",
        "    plt.title('Loss Over Epochs')\n",
        "    plt.xlabel('Epochs')\n",
        "    plt.ylabel('Loss')\n",
        "    plt.legend()\n",
        "\n",
        "    plt.show()\n",
        "\n",
        "plot_training_history(history)\n"
      ],
      "metadata": {
        "colab": {
          "base_uri": "https://localhost:8080/",
          "height": 531
        },
        "id": "VlCuVREXCMPO",
        "outputId": "9ea57d26-552b-461c-8a5d-a5bc6710f9e7"
      },
      "execution_count": 25,
      "outputs": [
        {
          "output_type": "display_data",
          "data": {
            "text/plain": [
              "<Figure size 1200x600 with 2 Axes>"
            ],
            "image/png": "[encoded data removed]"
          },
          "metadata": {}
        }
      ]
    },
    {
      "cell_type": "code",
      "source": [
        "# Save the model\n",
        "model.save(\"thermal_plant_resnet_model.h5\")\n",
        "print(\"Model saved.\")"
      ],
      "metadata": {
        "colab": {
          "base_uri": "https://localhost:8080/"
        },
        "id": "jz0l5l2fCSF2",
        "outputId": "2e216384-6bac-4c0f-b5fd-cd873ce00b07"
      },
      "execution_count": 26,
      "outputs": [
        {
          "output_type": "stream",
          "name": "stderr",
          "text": [
            "WARNING:absl:You are saving your model as an HDF5 file via `model.save()` or `keras.saving.save_model(model)`. This file format is considered legacy. We recommend using instead the native Keras format, e.g. `model.save('my_model.keras')` or `keras.saving.save_model(model, 'my_model.keras')`. \n"
          ]
        },
        {
          "output_type": "stream",
          "name": "stdout",
          "text": [
            "Model saved.\n"
          ]
        }
      ]
    }
  ],
  "metadata": {
    "colab": {
      "provenance": [],
      "include_colab_link": true
    },
    "kernelspec": {
      "display_name": "Python 3",
      "name": "python3"
    },
    "language_info": {
      "codemirror_mode": {
        "name": "ipython",
        "version": 3
      },
      "file_extension": ".py",
      "mimetype": "text/x-python",
      "name": "python",
      "nbconvert_exporter": "python",
      "pygments_lexer": "ipython3",
      "version": "3.11.3"
    }
  },
  "nbformat": 4,
  "nbformat_minor": 0
}