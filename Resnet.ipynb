{
  "cells": [
    {
      "cell_type": "markdown",
      "metadata": {
        "id": "view-in-github",
        "colab_type": "text"
      },
      "source": [
        "<a href=\"https://colab.research.google.com/github/AbhishekSinghKushwah7/Plant-Disease-Identification-via-Deep-Learning/blob/main/Resnet.ipynb\" target=\"_parent\"><img src=\"https://colab.research.google.com/assets/colab-badge.svg\" alt=\"Open In Colab\"/></a>"
      ]
    },
    {
      "cell_type": "markdown",
      "metadata": {
        "id": "1NCnOMfnnKGy"
      },
      "source": [
        "# **Experiment 2**"
      ]
    },
    {
      "cell_type": "code",
      "execution_count": 2,
      "metadata": {
        "id": "kanEUk54lv8o"
      },
      "outputs": [],
      "source": [
        "import os\n",
        "import tensorflow as tf\n",
        "from tensorflow.keras import layers, models\n",
        "from tensorflow.keras.preprocessing.image import ImageDataGenerator\n",
        "from tensorflow.keras.applications import ResNet50\n",
        "from tensorflow.keras.callbacks import EarlyStopping\n",
        "from sklearn.model_selection import train_test_split\n",
        "import shutil\n",
        "import matplotlib.pyplot as plt"
      ]
    },
    {
      "cell_type": "code",
      "execution_count": 5,
      "metadata": {
        "id": "wWZuTLAVnD8g"
      },
      "outputs": [],
      "source": [
        "source_dir = \"/content/drive/MyDrive/Colab Notebooks/thermal images UL\"\n",
        "output_dir = \"/content/drive/MyDrive/Colab Notebooks/thermal images UL\"\n",
        "\n",
        "classes = ['Blast', 'BLB', 'healthy', 'hispa', 'leaf folder', 'leaf spot']\n"
      ]
    },
    {
      "cell_type": "code",
      "execution_count": 6,
      "metadata": {
        "id": "yFjsC08_ouBE"
      },
      "outputs": [],
      "source": [
        "# Step 1: Data Preparation\n",
        "def prepare_data(source_dir, output_dir, classes, test_size=0.2, val_size=0.2):\n",
        "    \"\"\"Prepare the dataset by splitting it into training, validation, and test sets.\"\"\"\n",
        "    splits = ['train', 'validation', 'test']\n",
        "\n",
        "    # Create directories for splits\n",
        "    for split in splits:\n",
        "        for cls in classes:\n",
        "            os.makedirs(os.path.join(output_dir, split, cls), exist_ok=True)\n",
        "\n",
        "    # List all images and split data\n",
        "    for cls in classes:\n",
        "        class_dir = os.path.join(source_dir, cls)\n",
        "        images = [os.path.join(class_dir, img) for img in os.listdir(class_dir) if img.endswith(('jpg', 'png'))]\n",
        "\n",
        "        # Split into train, validation, and test sets\n",
        "        train_val_images, test_images = train_test_split(images, test_size=test_size, random_state=42)\n",
        "        train_images, val_images = train_test_split(train_val_images, test_size=val_size, random_state=42)\n",
        "\n",
        "        # Copy images to respective directories\n",
        "        for img_path in train_images:\n",
        "            shutil.copy(img_path, os.path.join(output_dir, 'train', cls))\n",
        "        for img_path in val_images:\n",
        "            shutil.copy(img_path, os.path.join(output_dir, 'validation', cls))\n",
        "        for img_path in test_images:\n",
        "            shutil.copy(img_path, os.path.join(output_dir, 'test', cls))\n",
        "\n",
        "    print(\"Dataset preparation complete.\")\n"
      ]
    },
    {
      "cell_type": "code",
      "execution_count": 7,
      "metadata": {
        "colab": {
          "base_uri": "https://localhost:8080/"
        },
        "id": "pxQNYZWx0Gyl",
        "outputId": "aeac56bd-82ad-4463-985c-0dd1d5fdf0ca"
      },
      "outputs": [
        {
          "output_type": "stream",
          "name": "stdout",
          "text": [
            "Dataset preparation complete.\n"
          ]
        }
      ],
      "source": [
        "# Prepare dataset\n",
        "prepare_data(source_dir, output_dir, classes)"
      ]
    },
    {
      "cell_type": "code",
      "execution_count": 8,
      "metadata": {
        "id": "vdjrCZEX95kR"
      },
      "outputs": [],
      "source": [
        "# Step 2: Create Data Generators\n",
        "def create_data_generators(output_dir, img_size=(224, 224), batch_size=32):\n",
        "    \"\"\"Create training, validation, and test data generators with augmentation.\"\"\"\n",
        "    datagen_train = ImageDataGenerator(\n",
        "        rescale=1./255,\n",
        "        rotation_range=20,\n",
        "        width_shift_range=0.2,\n",
        "        height_shift_range=0.2,\n",
        "        shear_range=0.2,\n",
        "        zoom_range=0.2,\n",
        "        horizontal_flip=True\n",
        "    )\n",
        "\n",
        "    datagen_val_test = ImageDataGenerator(rescale=1./255)\n",
        "\n",
        "    train_generator = datagen_train.flow_from_directory(\n",
        "        os.path.join(output_dir, 'train'),\n",
        "        target_size=img_size,\n",
        "        batch_size=batch_size,\n",
        "        class_mode='categorical'\n",
        "    )\n",
        "\n",
        "    val_generator = datagen_val_test.flow_from_directory(\n",
        "        os.path.join(output_dir, 'validation'),\n",
        "        target_size=img_size,\n",
        "        batch_size=batch_size,\n",
        "        class_mode='categorical'\n",
        "    )\n",
        "\n",
        "    test_generator = datagen_val_test.flow_from_directory(\n",
        "        os.path.join(output_dir, 'test'),\n",
        "        target_size=img_size,\n",
        "        batch_size=batch_size,\n",
        "        class_mode='categorical'\n",
        "    )\n",
        "\n",
        "    return train_generator, val_generator, test_generator"
      ]
    },
    {
      "cell_type": "code",
      "execution_count": 9,
      "metadata": {
        "colab": {
          "base_uri": "https://localhost:8080/"
        },
        "collapsed": true,
        "id": "1Qm0kNxc-Gma",
        "outputId": "393ac5a9-b42d-4c96-c2f8-a90b6e6515c7"
      },
      "outputs": [
        {
          "output_type": "stream",
          "name": "stdout",
          "text": [
            "Found 403 images belonging to 6 classes.\n",
            "Found 104 images belonging to 6 classes.\n",
            "Found 129 images belonging to 6 classes.\n"
          ]
        }
      ],
      "source": [
        "# Create data generators\n",
        "train_gen, val_gen, test_gen = create_data_generators(output_dir)"
      ]
    },
    {
      "cell_type": "code",
      "execution_count": 10,
      "metadata": {
        "id": "jJ6EByr--PZk"
      },
      "outputs": [],
      "source": [
        "# Step 3: Build ResNet Model\n",
        "def build_resnet_model(input_shape=(224, 224, 3), num_classes=6):\n",
        "    \"\"\"Build a ResNet model for classification.\"\"\"\n",
        "    base_model = ResNet50(weights='imagenet', include_top=False, input_shape=input_shape)\n",
        "    base_model.trainable = False  # Freeze base model layers\n",
        "\n",
        "    model = models.Sequential([\n",
        "        base_model,\n",
        "        layers.GlobalAveragePooling2D(),\n",
        "        layers.Dense(256, activation='relu'),\n",
        "        layers.Dropout(0.5),\n",
        "        layers.Dense(num_classes, activation='softmax')\n",
        "    ])\n",
        "\n",
        "    model.compile(optimizer='adam', loss='categorical_crossentropy', metrics=['accuracy'])\n",
        "    return model"
      ]
    },
    {
      "cell_type": "code",
      "execution_count": 11,
      "metadata": {
        "colab": {
          "base_uri": "https://localhost:8080/"
        },
        "id": "GHxwYJuI-_oL",
        "outputId": "530b931b-c4e2-4090-811c-9f4b3f08d105"
      },
      "outputs": [
        {
          "output_type": "stream",
          "name": "stdout",
          "text": [
            "Downloading data from https://storage.googleapis.com/tensorflow/keras-applications/resnet/resnet50_weights_tf_dim_ordering_tf_kernels_notop.h5\n",
            "\u001b[1m94765736/94765736\u001b[0m \u001b[32m━━━━━━━━━━━━━━━━━━━━\u001b[0m\u001b[37m\u001b[0m \u001b[1m1s\u001b[0m 0us/step\n"
          ]
        }
      ],
      "source": [
        "# Build the model\n",
        "model = build_resnet_model()"
      ]
    },
    {
      "cell_type": "code",
      "execution_count": 12,
      "metadata": {
        "colab": {
          "base_uri": "https://localhost:8080/"
        },
        "id": "fvNXguXa_EIK",
        "outputId": "ad829bbf-07d1-4dc6-a54e-453a0298bb47"
      },
      "outputs": [
        {
          "output_type": "stream",
          "name": "stderr",
          "text": [
            "/usr/local/lib/python3.11/dist-packages/keras/src/trainers/data_adapters/py_dataset_adapter.py:121: UserWarning: Your `PyDataset` class should call `super().__init__(**kwargs)` in its constructor. `**kwargs` can include `workers`, `use_multiprocessing`, `max_queue_size`. Do not pass these arguments to `fit()`, as they will be ignored.\n",
            "  self._warn_if_super_not_called()\n"
          ]
        },
        {
          "output_type": "stream",
          "name": "stdout",
          "text": [
            "Epoch 1/10\n",
            "\u001b[1m13/13\u001b[0m \u001b[32m━━━━━━━━━━━━━━━━━━━━\u001b[0m\u001b[37m\u001b[0m \u001b[1m136s\u001b[0m 10s/step - accuracy: 0.2316 - loss: 1.9917 - val_accuracy: 0.3462 - val_loss: 1.6598\n",
            "Epoch 2/10\n",
            "\u001b[1m13/13\u001b[0m \u001b[32m━━━━━━━━━━━━━━━━━━━━\u001b[0m\u001b[37m\u001b[0m \u001b[1m101s\u001b[0m 8s/step - accuracy: 0.3075 - loss: 1.7147 - val_accuracy: 0.3462 - val_loss: 1.6507\n",
            "Epoch 3/10\n",
            "\u001b[1m13/13\u001b[0m \u001b[32m━━━━━━━━━━━━━━━━━━━━\u001b[0m\u001b[37m\u001b[0m \u001b[1m131s\u001b[0m 10s/step - accuracy: 0.3363 - loss: 1.6812 - val_accuracy: 0.3462 - val_loss: 1.6448\n",
            "Epoch 4/10\n",
            "\u001b[1m13/13\u001b[0m \u001b[32m━━━━━━━━━━━━━━━━━━━━\u001b[0m\u001b[37m\u001b[0m \u001b[1m127s\u001b[0m 10s/step - accuracy: 0.3299 - loss: 1.6730 - val_accuracy: 0.3462 - val_loss: 1.6458\n",
            "Epoch 5/10\n",
            "\u001b[1m13/13\u001b[0m \u001b[32m━━━━━━━━━━━━━━━━━━━━\u001b[0m\u001b[37m\u001b[0m \u001b[1m106s\u001b[0m 8s/step - accuracy: 0.3471 - loss: 1.6843 - val_accuracy: 0.3462 - val_loss: 1.6437\n",
            "Epoch 6/10\n",
            "\u001b[1m13/13\u001b[0m \u001b[32m━━━━━━━━━━━━━━━━━━━━\u001b[0m\u001b[37m\u001b[0m \u001b[1m110s\u001b[0m 8s/step - accuracy: 0.3609 - loss: 1.6543 - val_accuracy: 0.3462 - val_loss: 1.6422\n",
            "Epoch 7/10\n",
            "\u001b[1m13/13\u001b[0m \u001b[32m━━━━━━━━━━━━━━━━━━━━\u001b[0m\u001b[37m\u001b[0m \u001b[1m105s\u001b[0m 8s/step - accuracy: 0.3463 - loss: 1.6622 - val_accuracy: 0.3462 - val_loss: 1.6491\n",
            "Epoch 8/10\n",
            "\u001b[1m13/13\u001b[0m \u001b[32m━━━━━━━━━━━━━━━━━━━━\u001b[0m\u001b[37m\u001b[0m \u001b[1m112s\u001b[0m 9s/step - accuracy: 0.3335 - loss: 1.6987 - val_accuracy: 0.3462 - val_loss: 1.6442\n",
            "Epoch 9/10\n",
            "\u001b[1m13/13\u001b[0m \u001b[32m━━━━━━━━━━━━━━━━━━━━\u001b[0m\u001b[37m\u001b[0m \u001b[1m109s\u001b[0m 9s/step - accuracy: 0.3676 - loss: 1.6331 - val_accuracy: 0.3462 - val_loss: 1.6425\n"
          ]
        }
      ],
      "source": [
        "# Step 4: Train the Model\n",
        "callbacks = [\n",
        "    EarlyStopping(monitor='val_loss', patience=3, restore_best_weights=True)\n",
        "]\n",
        "\n",
        "history = model.fit(\n",
        "    train_gen,\n",
        "    validation_data=val_gen,\n",
        "    epochs=10,\n",
        "    callbacks=callbacks\n",
        ")\n"
      ]
    },
    {
      "cell_type": "code",
      "execution_count": 13,
      "metadata": {
        "colab": {
          "base_uri": "https://localhost:8080/"
        },
        "collapsed": true,
        "id": "E7t3xeWS158M",
        "outputId": "909816b2-8752-47ec-b9a8-3eb10d830564"
      },
      "outputs": [
        {
          "output_type": "stream",
          "name": "stdout",
          "text": [
            "\u001b[1m5/5\u001b[0m \u001b[32m━━━━━━━━━━━━━━━━━━━━\u001b[0m\u001b[37m\u001b[0m \u001b[1m29s\u001b[0m 5s/step - accuracy: 0.3229 - loss: 1.6666\n",
            "Test Accuracy: 34.11%\n"
          ]
        }
      ],
      "source": [
        "# Step 5: Evaluate the Model\n",
        "eval_results = model.evaluate(test_gen)\n",
        "print(f\"Test Accuracy: {eval_results[1] * 100:.2f}%\")\n"
      ]
    },
    {
      "cell_type": "code",
      "source": [
        "# Step 6: Plot Training and Validation Accuracy and Loss\n",
        "def plot_training_history(history):\n",
        "    plt.figure(figsize=(12, 6))\n",
        "\n",
        "    # Plot accuracy\n",
        "    plt.subplot(1, 2, 1)\n",
        "    plt.plot(history.history['accuracy'], label='Train Accuracy')\n",
        "    plt.plot(history.history['val_accuracy'], label='Validation Accuracy')\n",
        "    plt.title('Accuracy Over Epochs')\n",
        "    plt.xlabel('Epochs')\n",
        "    plt.ylabel('Accuracy')\n",
        "    plt.legend()\n",
        "\n",
        "    # Plot loss\n",
        "    plt.subplot(1, 2, 2)\n",
        "    plt.plot(history.history['loss'], label='Train Loss')\n",
        "    plt.plot(history.history['val_loss'], label='Validation Loss')\n",
        "    plt.title('Loss Over Epochs')\n",
        "    plt.xlabel('Epochs')\n",
        "    plt.ylabel('Loss')\n",
        "    plt.legend()\n",
        "\n",
        "    plt.show()\n",
        "\n",
        "plot_training_history(history)\n"
      ],
      "metadata": {
        "colab": {
          "base_uri": "https://localhost:8080/",
          "height": 527
        },
        "id": "VlCuVREXCMPO",
        "outputId": "686e8c3f-b749-4166-a463-231d0fd51da6"
      },
      "execution_count": 14,
      "outputs": [
        {
          "output_type": "display_data",
          "data": {
            "text/plain": [
              "<Figure size 1200x600 with 2 Axes>"
            ],
            "image/png": "[encoded data removed]"
          },
          "metadata": {}
        }
      ]
    },
    {
      "cell_type": "code",
      "source": [
        "# Save the model\n",
        "model.save(\"thermal_plant_resnet_model.h5\")\n",
        "print(\"Model saved.\")"
      ],
      "metadata": {
        "id": "jz0l5l2fCSF2"
      },
      "execution_count": null,
      "outputs": []
    }
  ],
  "metadata": {
    "colab": {
      "provenance": [],
      "include_colab_link": true
    },
    "kernelspec": {
      "display_name": "Python 3",
      "name": "python3"
    },
    "language_info": {
      "codemirror_mode": {
        "name": "ipython",
        "version": 3
      },
      "file_extension": ".py",
      "mimetype": "text/x-python",
      "name": "python",
      "nbconvert_exporter": "python",
      "pygments_lexer": "ipython3",
      "version": "3.11.3"
    }
  },
  "nbformat": 4,
  "nbformat_minor": 0
}