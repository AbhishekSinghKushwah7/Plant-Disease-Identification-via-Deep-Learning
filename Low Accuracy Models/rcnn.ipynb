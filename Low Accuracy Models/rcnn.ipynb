{
  "nbformat": 4,
  "nbformat_minor": 0,
  "metadata": {
    "colab": {
      "provenance": [],
      "authorship_tag": "ABX9TyPTkg0RG4KuMp4lkUxVvm2l",
      "include_colab_link": true
    },
    "kernelspec": {
      "name": "python3",
      "display_name": "Python 3"
    },
    "language_info": {
      "name": "python"
    }
  },
  "cells": [
    {
      "cell_type": "markdown",
      "metadata": {
        "id": "view-in-github",
        "colab_type": "text"
      },
      "source": [
        "<a href=\"https://colab.research.google.com/github/AbhishekSinghKushwah7/Plant-Disease-Identification-via-Deep-Learning/blob/main/rcnn.ipynb\" target=\"_parent\"><img src=\"https://colab.research.google.com/assets/colab-badge.svg\" alt=\"Open In Colab\"/></a>"
      ]
    },
    {
      "cell_type": "markdown",
      "source": [
        "# **Experiment 2**"
      ],
      "metadata": {
        "id": "1NCnOMfnnKGy"
      }
    },
    {
      "cell_type": "code",
      "source": [
        "from google.colab import drive\n",
        "drive.mount('/content/drive')"
      ],
      "metadata": {
        "colab": {
          "base_uri": "https://localhost:8080/"
        },
        "id": "OqdZGtyOsRxE",
        "outputId": "3c73c6a3-f0b7-4ff6-ea19-a08d335e3647"
      },
      "execution_count": null,
      "outputs": [
        {
          "output_type": "stream",
          "name": "stdout",
          "text": [
            "Mounted at /content/drive\n"
          ]
        }
      ]
    },
    {
      "cell_type": "code",
      "execution_count": null,
      "metadata": {
        "id": "kanEUk54lv8o"
      },
      "outputs": [],
      "source": [
        "import os\n",
        "import shutil\n",
        "from sklearn.model_selection import train_test_split\n",
        "from tensorflow.keras.preprocessing.image import ImageDataGenerator\n",
        "from tensorflow.keras.applications import VGG16\n",
        "from tensorflow.keras.models import Model\n",
        "from tensorflow.keras.layers import Input, Flatten, Dense, Dropout\n",
        "from tensorflow.keras.callbacks import EarlyStopping\n",
        "import matplotlib.pyplot as plt"
      ]
    },
    {
      "cell_type": "code",
      "source": [
        "def create_directories(output_dir, splits, classes):\n",
        "    for split in splits:\n",
        "        for cls in classes:\n",
        "            os.makedirs(os.path.join(output_dir, split, cls), exist_ok=True)\n",
        "\n",
        "def list_all_images(source_dir, classes):\n",
        "    all_images = []\n",
        "    for cls in classes:\n",
        "        class_dir = os.path.join(source_dir, cls)\n",
        "        images = [os.path.join(class_dir, img) for img in os.listdir(class_dir) if img.endswith(('.jpg', '.jpeg', '.png'))]\n",
        "        all_images.extend([(img, cls) for img in images])\n",
        "    return all_images\n",
        "\n",
        "def split_dataset(all_images):\n",
        "    train_val_images, test_images = train_test_split(all_images, test_size=0.2, random_state=42)\n",
        "    train_images, val_images = train_test_split(train_val_images, test_size=0.25, random_state=42)  # 0.25 * 0.8 = 0.2\n",
        "    return train_images, val_images, test_images\n",
        "\n",
        "def copy_images(images, output_dir, split):\n",
        "    for img_path, cls in images:\n",
        "        dest_dir = os.path.join(output_dir, split, cls)\n",
        "        shutil.copy(img_path, dest_dir)\n",
        "\n",
        "def prepare_data(source_dir, output_dir, classes):\n",
        "    splits = ['train', 'validation', 'test']\n",
        "    create_directories(output_dir, splits, classes)\n",
        "    all_images = list_all_images(source_dir, classes)\n",
        "    train_images, val_images, test_images = split_dataset(all_images)\n",
        "    copy_images(train_images, output_dir, 'train')\n",
        "    copy_images(val_images, output_dir, 'validation')\n",
        "    copy_images(test_images, output_dir, 'test')\n",
        "    return len(train_images), len(val_images), len(test_images)\n",
        "\n",
        "def build_rcnn_model(input_shape, num_classes):\n",
        "    base_model = VGG16(weights='imagenet', include_top=False, input_tensor=Input(shape=input_shape))\n",
        "\n",
        "    # Freeze the layers of the base model\n",
        "    for layer in base_model.layers:\n",
        "        layer.trainable = False\n",
        "\n",
        "    # Add custom layers on top of the base model\n",
        "    x = base_model.output\n",
        "    x = Flatten()(x)\n",
        "    x = Dense(256, activation='relu')(x)\n",
        "    x = Dropout(0.5)(x)\n",
        "    output_layer = Dense(num_classes, activation='softmax')(x)\n",
        "\n",
        "    model = Model(inputs=base_model.input, outputs=output_layer)\n",
        "    model.compile(optimizer='adam', loss='categorical_crossentropy', metrics=['accuracy'])\n",
        "    return model\n",
        "\n",
        "def plot_history(history, test_accuracy=None):\n",
        "    fig, axes = plt.subplots(1, 2, figsize=(12, 4))\n",
        "\n",
        "    # Plot Accuracy\n",
        "    axes[0].plot(history.history['accuracy'], label='Training Accuracy')\n",
        "    axes[0].plot(history.history['val_accuracy'], label='Validation Accuracy')\n",
        "    if test_accuracy is not None:\n",
        "        axes[0].axhline(y=test_accuracy, color='r', linestyle='--', label='Test Accuracy')\n",
        "    axes[0].set_xlabel('Epochs')\n",
        "    axes[0].set_ylabel('Accuracy')\n",
        "    axes[0].set_title('Accuracy')\n",
        "    axes[0].legend()\n",
        "\n",
        "    # Plot Loss\n",
        "    axes[1].plot(history.history['loss'], label='Training Loss')\n",
        "    axes[1].plot(history.history['val_loss'], label='Validation Loss')\n",
        "    axes[1].set_xlabel('Epochs')\n",
        "    axes[1].set_ylabel('Loss')\n",
        "    axes[1].set_title('Loss')\n",
        "    axes[1].legend()\n",
        "\n",
        "    plt.tight_layout()\n",
        "    plt.show()"
      ],
      "metadata": {
        "id": "wWZuTLAVnD8g"
      },
      "execution_count": null,
      "outputs": []
    },
    {
      "cell_type": "code",
      "source": [
        "source_dir = \"/content/drive/MyDrive/Colab Notebooks/thermal images UL\"\n",
        "output_dir = \"/content/drive/MyDrive/Colab Notebooks/thermal images UL\"\n",
        "classes = ['healthy', 'Blast', 'BLB', 'hispa', 'leaf folder', 'leaf spot']"
      ],
      "metadata": {
        "id": "yFjsC08_ouBE"
      },
      "execution_count": null,
      "outputs": []
    },
    {
      "cell_type": "code",
      "source": [
        "# Prepare data\n",
        "train_count, val_count, test_count = prepare_data(source_dir, output_dir, classes)\n",
        "print(f\"Training set: {train_count} images\")\n",
        "print(f\"Validation set: {val_count} images\")\n",
        "print(f\"Test set: {test_count} images\")\n"
      ],
      "metadata": {
        "colab": {
          "base_uri": "https://localhost:8080/"
        },
        "id": "pxQNYZWx0Gyl",
        "outputId": "574116c6-04b1-4a39-b60d-3ca160b96320"
      },
      "execution_count": null,
      "outputs": [
        {
          "output_type": "stream",
          "name": "stdout",
          "text": [
            "Training set: 381 images\n",
            "Validation set: 127 images\n",
            "Test set: 128 images\n"
          ]
        }
      ]
    },
    {
      "cell_type": "code",
      "source": [
        "# Step 1: Data Augmentation\n",
        "datagen = ImageDataGenerator(\n",
        "    rescale=1.0/255,\n",
        "    rotation_range=30,\n",
        "    width_shift_range=0.2,\n",
        "    height_shift_range=0.2,\n",
        "    shear_range=0.2,\n",
        "    zoom_range=0.2,\n",
        "    horizontal_flip=True,\n",
        "    fill_mode='nearest'\n",
        ")\n",
        "\n",
        "train_generator = datagen.flow_from_directory(\n",
        "    os.path.join(output_dir, 'train'),\n",
        "    target_size=(224, 224),  # Resize images to 224x224\n",
        "    batch_size=32,\n",
        "    class_mode='categorical'\n",
        ")\n",
        "\n",
        "val_generator = datagen.flow_from_directory(\n",
        "    os.path.join(output_dir, 'validation'),\n",
        "    target_size=(224, 224),\n",
        "    batch_size=32,\n",
        "    class_mode='categorical'\n",
        ")\n",
        "\n",
        "test_generator = datagen.flow_from_directory(\n",
        "    os.path.join(output_dir, 'test'),\n",
        "    target_size=(224, 224),\n",
        "    batch_size=32,\n",
        "    class_mode='categorical'\n",
        ")"
      ],
      "metadata": {
        "colab": {
          "base_uri": "https://localhost:8080/"
        },
        "id": "vdjrCZEX95kR",
        "outputId": "e971ff20-cd61-4aad-9cb1-56217b10b2be"
      },
      "execution_count": null,
      "outputs": [
        {
          "output_type": "stream",
          "name": "stdout",
          "text": [
            "Found 540 images belonging to 8 classes.\n",
            "Found 227 images belonging to 8 classes.\n",
            "Found 232 images belonging to 8 classes.\n"
          ]
        }
      ]
    },
    {
      "cell_type": "code",
      "source": [
        "# Step 2: Build the R-CNN Model\n",
        "model = build_rcnn_model(input_shape=(224, 224, 3), num_classes=train_generator.num_classes)"
      ],
      "metadata": {
        "colab": {
          "base_uri": "https://localhost:8080/"
        },
        "id": "1Qm0kNxc-Gma",
        "outputId": "a5ffd1c3-c5cf-4271-e199-feca8b2f1a8b",
        "collapsed": true
      },
      "execution_count": null,
      "outputs": [
        {
          "output_type": "stream",
          "name": "stdout",
          "text": [
            "Downloading data from https://storage.googleapis.com/tensorflow/keras-applications/vgg16/vgg16_weights_tf_dim_ordering_tf_kernels_notop.h5\n",
            "\u001b[1m58889256/58889256\u001b[0m \u001b[32m━━━━━━━━━━━━━━━━━━━━\u001b[0m\u001b[37m\u001b[0m \u001b[1m0s\u001b[0m 0us/step\n"
          ]
        }
      ]
    },
    {
      "cell_type": "code",
      "source": [
        "# Step 3: Training the Model\n",
        "early_stopping = EarlyStopping(monitor='val_loss', patience=5, restore_best_weights=True)\n",
        "\n",
        "history = model.fit(\n",
        "    train_generator,\n",
        "    validation_data=val_generator,\n",
        "    epochs=10,\n",
        "    callbacks=[early_stopping]\n",
        ")"
      ],
      "metadata": {
        "colab": {
          "base_uri": "https://localhost:8080/"
        },
        "id": "jJ6EByr--PZk",
        "outputId": "f35e6909-12c3-4bc3-e29a-b720a9d33971"
      },
      "execution_count": null,
      "outputs": [
        {
          "output_type": "stream",
          "name": "stderr",
          "text": [
            "/usr/local/lib/python3.11/dist-packages/keras/src/trainers/data_adapters/py_dataset_adapter.py:121: UserWarning: Your `PyDataset` class should call `super().__init__(**kwargs)` in its constructor. `**kwargs` can include `workers`, `use_multiprocessing`, `max_queue_size`. Do not pass these arguments to `fit()`, as they will be ignored.\n",
            "  self._warn_if_super_not_called()\n"
          ]
        },
        {
          "output_type": "stream",
          "name": "stdout",
          "text": [
            "Epoch 1/10\n"
          ]
        },
        {
          "output_type": "stream",
          "name": "stderr",
          "text": [
            "/usr/local/lib/python3.11/dist-packages/keras/src/models/functional.py:237: UserWarning: The structure of `inputs` doesn't match the expected structure.\n",
            "Expected: ['keras_tensor']\n",
            "Received: inputs=Tensor(shape=(None, 224, 224, 3))\n",
            "  warnings.warn(msg)\n"
          ]
        },
        {
          "output_type": "stream",
          "name": "stdout",
          "text": [
            "\u001b[1m17/17\u001b[0m \u001b[32m━━━━━━━━━━━━━━━━━━━━\u001b[0m\u001b[37m\u001b[0m \u001b[1m482s\u001b[0m 29s/step - accuracy: 0.2245 - loss: 4.7817 - val_accuracy: 0.3524 - val_loss: 1.9026\n",
            "Epoch 2/10\n",
            "\u001b[1m17/17\u001b[0m \u001b[32m━━━━━━━━━━━━━━━━━━━━\u001b[0m\u001b[37m\u001b[0m \u001b[1m464s\u001b[0m 28s/step - accuracy: 0.2601 - loss: 2.0579 - val_accuracy: 0.3744 - val_loss: 1.6338\n",
            "Epoch 3/10\n",
            "\u001b[1m17/17\u001b[0m \u001b[32m━━━━━━━━━━━━━━━━━━━━\u001b[0m\u001b[37m\u001b[0m \u001b[1m492s\u001b[0m 27s/step - accuracy: 0.3231 - loss: 1.6526 - val_accuracy: 0.3216 - val_loss: 1.5476\n",
            "Epoch 4/10\n",
            "\u001b[1m17/17\u001b[0m \u001b[32m━━━━━━━━━━━━━━━━━━━━\u001b[0m\u001b[37m\u001b[0m \u001b[1m464s\u001b[0m 28s/step - accuracy: 0.3719 - loss: 1.6248 - val_accuracy: 0.3789 - val_loss: 1.4660\n",
            "Epoch 5/10\n",
            "\u001b[1m17/17\u001b[0m \u001b[32m━━━━━━━━━━━━━━━━━━━━\u001b[0m\u001b[37m\u001b[0m \u001b[1m450s\u001b[0m 27s/step - accuracy: 0.3958 - loss: 1.4997 - val_accuracy: 0.4009 - val_loss: 1.4306\n",
            "Epoch 6/10\n",
            "\u001b[1m17/17\u001b[0m \u001b[32m━━━━━━━━━━━━━━━━━━━━\u001b[0m\u001b[37m\u001b[0m \u001b[1m450s\u001b[0m 27s/step - accuracy: 0.4403 - loss: 1.4546 - val_accuracy: 0.4405 - val_loss: 1.3806\n",
            "Epoch 7/10\n",
            "\u001b[1m17/17\u001b[0m \u001b[32m━━━━━━━━━━━━━━━━━━━━\u001b[0m\u001b[37m\u001b[0m \u001b[1m506s\u001b[0m 27s/step - accuracy: 0.3671 - loss: 1.4137 - val_accuracy: 0.4890 - val_loss: 1.2803\n",
            "Epoch 8/10\n",
            "\u001b[1m17/17\u001b[0m \u001b[32m━━━━━━━━━━━━━━━━━━━━\u001b[0m\u001b[37m\u001b[0m \u001b[1m454s\u001b[0m 27s/step - accuracy: 0.4218 - loss: 1.4185 - val_accuracy: 0.4405 - val_loss: 1.2742\n",
            "Epoch 9/10\n",
            "\u001b[1m17/17\u001b[0m \u001b[32m━━━━━━━━━━━━━━━━━━━━\u001b[0m\u001b[37m\u001b[0m \u001b[1m450s\u001b[0m 27s/step - accuracy: 0.4397 - loss: 1.3879 - val_accuracy: 0.4670 - val_loss: 1.2713\n",
            "Epoch 10/10\n",
            "\u001b[1m17/17\u001b[0m \u001b[32m━━━━━━━━━━━━━━━━━━━━\u001b[0m\u001b[37m\u001b[0m \u001b[1m454s\u001b[0m 27s/step - accuracy: 0.4617 - loss: 1.3732 - val_accuracy: 0.5419 - val_loss: 1.1963\n"
          ]
        }
      ]
    },
    {
      "cell_type": "code",
      "source": [
        "# Step 4: Evaluate the Model\n",
        "train_accuracy = history.history['accuracy'][-1]\n",
        "val_accuracy = history.history['val_accuracy'][-1]\n",
        "\n",
        "print(f\"Training Accuracy: {train_accuracy}\")\n",
        "print(f\"Validation Accuracy: {val_accuracy}\")\n",
        "\n",
        "# Test Accuracy\n",
        "test_accuracy = None\n",
        "if test_generator:\n",
        "    test_loss, test_accuracy = model.evaluate(test_generator)\n",
        "    print(f\"Testing Accuracy: {test_accuracy}\")"
      ],
      "metadata": {
        "colab": {
          "base_uri": "https://localhost:8080/"
        },
        "id": "GHxwYJuI-_oL",
        "outputId": "8efffe93-8789-4342-b686-af19ba1e8e55"
      },
      "execution_count": null,
      "outputs": [
        {
          "output_type": "stream",
          "name": "stdout",
          "text": [
            "Training Accuracy: 0.46296295523643494\n",
            "Validation Accuracy: 0.541850209236145\n",
            "\u001b[1m8/8\u001b[0m \u001b[32m━━━━━━━━━━━━━━━━━━━━\u001b[0m\u001b[37m\u001b[0m \u001b[1m141s\u001b[0m 17s/step - accuracy: 0.5566 - loss: 1.2251\n",
            "Testing Accuracy: 0.5517241358757019\n"
          ]
        }
      ]
    },
    {
      "cell_type": "code",
      "source": [
        "# Step 5: Plot Training/Validation Accuracy and Loss\n",
        "plot_history(history, test_accuracy=test_accuracy)"
      ],
      "metadata": {
        "colab": {
          "base_uri": "https://localhost:8080/",
          "height": 326
        },
        "id": "fvNXguXa_EIK",
        "outputId": "2678f07a-54d8-4dcd-e842-7297b93307ec"
      },
      "execution_count": null,
      "outputs": [
        {
          "output_type": "display_data",
          "data": {
            "text/plain": [
              "<Figure size 1200x400 with 2 Axes>"
            ],
            "image/png": "[encoded data removed]"
          },
          "metadata": {}
        }
      ]
    },
    {
      "cell_type": "code",
      "source": [
        "# Step 6: Save the Model\n",
        "model.save('image_classification_rcnn_model.h5')\n",
        "print(\"Model saved as 'image_classification_rcnn_model.h5'\")"
      ],
      "metadata": {
        "collapsed": true,
        "colab": {
          "base_uri": "https://localhost:8080/"
        },
        "id": "E7t3xeWS158M",
        "outputId": "6fb6b926-c719-490e-9577-f83b028042ad"
      },
      "execution_count": null,
      "outputs": [
        {
          "output_type": "stream",
          "name": "stderr",
          "text": [
            "WARNING:absl:You are saving your model as an HDF5 file via `model.save()` or `keras.saving.save_model(model)`. This file format is considered legacy. We recommend using instead the native Keras format, e.g. `model.save('my_model.keras')` or `keras.saving.save_model(model, 'my_model.keras')`. \n"
          ]
        },
        {
          "output_type": "stream",
          "name": "stdout",
          "text": [
            "Model saved as 'image_classification_rcnn_model.h5'\n"
          ]
        }
      ]
    }
  ]
}
